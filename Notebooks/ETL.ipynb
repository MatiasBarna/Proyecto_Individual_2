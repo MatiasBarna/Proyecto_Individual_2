{
 "cells": [
  {
   "cell_type": "code",
   "execution_count": 73,
   "metadata": {},
   "outputs": [],
   "source": [
    "import pandas as pd\n",
    "import numpy as np"
   ]
  },
  {
   "cell_type": "code",
   "execution_count": 74,
   "metadata": {},
   "outputs": [],
   "source": [
    "# Funcion para cargar el archivo excel\n",
    "def cargar_archivo_excel(archivo, hojas, engine='openpyxl'):\n",
    "    try:\n",
    "        xls_file = pd.ExcelFile(archivo, engine=engine)\n",
    "        dfs = {}\n",
    "\n",
    "        for hoja in hojas:\n",
    "            df = pd.read_excel(xls_file, hoja) \n",
    "            dfs[hoja] = df\n",
    "\n",
    "        return dfs\n",
    "\n",
    "    except Exception as e:\n",
    "        print(f\"Error al cargar el archivo Excel: {e}\")\n",
    "        return None"
   ]
  },
  {
   "cell_type": "code",
   "execution_count": 75,
   "metadata": {},
   "outputs": [],
   "source": [
    "# Se carga el archivo\n",
    "ruta=\"homicidios.xlsx\"\n",
    "pags=[\"HECHOS\",\"VICTIMAS\"]\n",
    "datos_excel=cargar_archivo_excel(ruta,pags)"
   ]
  },
  {
   "cell_type": "code",
   "execution_count": 76,
   "metadata": {},
   "outputs": [],
   "source": [
    "df_datos_hechos=datos_excel[\"HECHOS\"]"
   ]
  },
  {
   "cell_type": "code",
   "execution_count": 77,
   "metadata": {},
   "outputs": [
    {
     "data": {
      "text/html": [
       "<div>\n",
       "<style scoped>\n",
       "    .dataframe tbody tr th:only-of-type {\n",
       "        vertical-align: middle;\n",
       "    }\n",
       "\n",
       "    .dataframe tbody tr th {\n",
       "        vertical-align: top;\n",
       "    }\n",
       "\n",
       "    .dataframe thead th {\n",
       "        text-align: right;\n",
       "    }\n",
       "</style>\n",
       "<table border=\"1\" class=\"dataframe\">\n",
       "  <thead>\n",
       "    <tr style=\"text-align: right;\">\n",
       "      <th></th>\n",
       "      <th>ID</th>\n",
       "      <th>N_VICTIMAS</th>\n",
       "      <th>FECHA</th>\n",
       "      <th>AAAA</th>\n",
       "      <th>MM</th>\n",
       "      <th>DD</th>\n",
       "      <th>HORA</th>\n",
       "      <th>HH</th>\n",
       "      <th>LUGAR_DEL_HECHO</th>\n",
       "      <th>TIPO_DE_CALLE</th>\n",
       "      <th>...</th>\n",
       "      <th>Altura</th>\n",
       "      <th>Cruce</th>\n",
       "      <th>Dirección Normalizada</th>\n",
       "      <th>COMUNA</th>\n",
       "      <th>XY (CABA)</th>\n",
       "      <th>pos x</th>\n",
       "      <th>pos y</th>\n",
       "      <th>PARTICIPANTES</th>\n",
       "      <th>VICTIMA</th>\n",
       "      <th>ACUSADO</th>\n",
       "    </tr>\n",
       "  </thead>\n",
       "  <tbody>\n",
       "    <tr>\n",
       "      <th>0</th>\n",
       "      <td>2016-0001</td>\n",
       "      <td>1</td>\n",
       "      <td>2016-01-01</td>\n",
       "      <td>2016</td>\n",
       "      <td>1</td>\n",
       "      <td>1</td>\n",
       "      <td>04:00:00</td>\n",
       "      <td>4</td>\n",
       "      <td>AV PIEDRA BUENA Y AV FERNANDEZ DE LA CRUZ</td>\n",
       "      <td>AVENIDA</td>\n",
       "      <td>...</td>\n",
       "      <td>NaN</td>\n",
       "      <td>FERNANDEZ DE LA CRUZ, F., GRAL. AV.</td>\n",
       "      <td>PIEDRA BUENA AV. y FERNANDEZ DE LA CRUZ, F., G...</td>\n",
       "      <td>8</td>\n",
       "      <td>Point (98896.78238426 93532.43437792)</td>\n",
       "      <td>-58.47533969</td>\n",
       "      <td>-34.68757022</td>\n",
       "      <td>MOTO-AUTO</td>\n",
       "      <td>MOTO</td>\n",
       "      <td>AUTO</td>\n",
       "    </tr>\n",
       "    <tr>\n",
       "      <th>1</th>\n",
       "      <td>2016-0002</td>\n",
       "      <td>1</td>\n",
       "      <td>2016-01-02</td>\n",
       "      <td>2016</td>\n",
       "      <td>1</td>\n",
       "      <td>2</td>\n",
       "      <td>01:15:00</td>\n",
       "      <td>1</td>\n",
       "      <td>AV GRAL PAZ  Y AV DE LOS CORRALES</td>\n",
       "      <td>GRAL PAZ</td>\n",
       "      <td>...</td>\n",
       "      <td>NaN</td>\n",
       "      <td>DE LOS CORRALES AV.</td>\n",
       "      <td>PAZ, GRAL. AV. y DE LOS CORRALES AV.</td>\n",
       "      <td>9</td>\n",
       "      <td>Point (95832.05571093 95505.41641999)</td>\n",
       "      <td>-58.50877521</td>\n",
       "      <td>-34.66977709</td>\n",
       "      <td>AUTO-PASAJEROS</td>\n",
       "      <td>AUTO</td>\n",
       "      <td>PASAJEROS</td>\n",
       "    </tr>\n",
       "    <tr>\n",
       "      <th>2</th>\n",
       "      <td>2016-0003</td>\n",
       "      <td>1</td>\n",
       "      <td>2016-01-03</td>\n",
       "      <td>2016</td>\n",
       "      <td>1</td>\n",
       "      <td>3</td>\n",
       "      <td>07:00:00</td>\n",
       "      <td>7</td>\n",
       "      <td>AV ENTRE RIOS 2034</td>\n",
       "      <td>AVENIDA</td>\n",
       "      <td>...</td>\n",
       "      <td>2034.0</td>\n",
       "      <td>NaN</td>\n",
       "      <td>ENTRE RIOS AV. 2034</td>\n",
       "      <td>1</td>\n",
       "      <td>Point (106684.29090040 99706.57687843)</td>\n",
       "      <td>-58.39040293</td>\n",
       "      <td>-34.63189362</td>\n",
       "      <td>MOTO-AUTO</td>\n",
       "      <td>MOTO</td>\n",
       "      <td>AUTO</td>\n",
       "    </tr>\n",
       "    <tr>\n",
       "      <th>3</th>\n",
       "      <td>2016-0004</td>\n",
       "      <td>1</td>\n",
       "      <td>2016-01-10</td>\n",
       "      <td>2016</td>\n",
       "      <td>1</td>\n",
       "      <td>10</td>\n",
       "      <td>00:00:00</td>\n",
       "      <td>0</td>\n",
       "      <td>AV LARRAZABAL Y GRAL VILLEGAS CONRADO</td>\n",
       "      <td>AVENIDA</td>\n",
       "      <td>...</td>\n",
       "      <td>NaN</td>\n",
       "      <td>VILLEGAS, CONRADO, GRAL.</td>\n",
       "      <td>LARRAZABAL AV. y VILLEGAS, CONRADO, GRAL.</td>\n",
       "      <td>8</td>\n",
       "      <td>Point (99840.65224780 94269.16534422)</td>\n",
       "      <td>-58.46503904</td>\n",
       "      <td>-34.68092974</td>\n",
       "      <td>MOTO-SD</td>\n",
       "      <td>MOTO</td>\n",
       "      <td>SD</td>\n",
       "    </tr>\n",
       "    <tr>\n",
       "      <th>4</th>\n",
       "      <td>2016-0005</td>\n",
       "      <td>1</td>\n",
       "      <td>2016-01-21</td>\n",
       "      <td>2016</td>\n",
       "      <td>1</td>\n",
       "      <td>21</td>\n",
       "      <td>05:20:00</td>\n",
       "      <td>5</td>\n",
       "      <td>AV SAN JUAN Y PRESIDENTE LUIS SAENZ PEÑA</td>\n",
       "      <td>AVENIDA</td>\n",
       "      <td>...</td>\n",
       "      <td>NaN</td>\n",
       "      <td>SAENZ PE?A, LUIS, PRES.</td>\n",
       "      <td>SAN JUAN AV. y SAENZ PEÃ‘A, LUIS, PRES.</td>\n",
       "      <td>1</td>\n",
       "      <td>Point (106980.32827929 100752.16915795)</td>\n",
       "      <td>-58.38718297</td>\n",
       "      <td>-34.62246630</td>\n",
       "      <td>MOTO-PASAJEROS</td>\n",
       "      <td>MOTO</td>\n",
       "      <td>PASAJEROS</td>\n",
       "    </tr>\n",
       "  </tbody>\n",
       "</table>\n",
       "<p>5 rows × 21 columns</p>\n",
       "</div>"
      ],
      "text/plain": [
       "          ID  N_VICTIMAS      FECHA  AAAA  MM  DD      HORA HH  \\\n",
       "0  2016-0001           1 2016-01-01  2016   1   1  04:00:00  4   \n",
       "1  2016-0002           1 2016-01-02  2016   1   2  01:15:00  1   \n",
       "2  2016-0003           1 2016-01-03  2016   1   3  07:00:00  7   \n",
       "3  2016-0004           1 2016-01-10  2016   1  10  00:00:00  0   \n",
       "4  2016-0005           1 2016-01-21  2016   1  21  05:20:00  5   \n",
       "\n",
       "                             LUGAR_DEL_HECHO TIPO_DE_CALLE  ...  Altura  \\\n",
       "0  AV PIEDRA BUENA Y AV FERNANDEZ DE LA CRUZ       AVENIDA  ...     NaN   \n",
       "1          AV GRAL PAZ  Y AV DE LOS CORRALES      GRAL PAZ  ...     NaN   \n",
       "2                         AV ENTRE RIOS 2034       AVENIDA  ...  2034.0   \n",
       "3      AV LARRAZABAL Y GRAL VILLEGAS CONRADO       AVENIDA  ...     NaN   \n",
       "4  AV SAN JUAN Y PRESIDENTE LUIS SAENZ PEÑA        AVENIDA  ...     NaN   \n",
       "\n",
       "                                 Cruce  \\\n",
       "0  FERNANDEZ DE LA CRUZ, F., GRAL. AV.   \n",
       "1                  DE LOS CORRALES AV.   \n",
       "2                                  NaN   \n",
       "3             VILLEGAS, CONRADO, GRAL.   \n",
       "4              SAENZ PE?A, LUIS, PRES.   \n",
       "\n",
       "                               Dirección Normalizada COMUNA  \\\n",
       "0  PIEDRA BUENA AV. y FERNANDEZ DE LA CRUZ, F., G...      8   \n",
       "1               PAZ, GRAL. AV. y DE LOS CORRALES AV.      9   \n",
       "2                                ENTRE RIOS AV. 2034      1   \n",
       "3          LARRAZABAL AV. y VILLEGAS, CONRADO, GRAL.      8   \n",
       "4            SAN JUAN AV. y SAENZ PEÃ‘A, LUIS, PRES.      1   \n",
       "\n",
       "                                 XY (CABA)         pos x         pos y  \\\n",
       "0    Point (98896.78238426 93532.43437792)  -58.47533969  -34.68757022   \n",
       "1    Point (95832.05571093 95505.41641999)  -58.50877521  -34.66977709   \n",
       "2   Point (106684.29090040 99706.57687843)  -58.39040293  -34.63189362   \n",
       "3    Point (99840.65224780 94269.16534422)  -58.46503904  -34.68092974   \n",
       "4  Point (106980.32827929 100752.16915795)  -58.38718297  -34.62246630   \n",
       "\n",
       "    PARTICIPANTES VICTIMA    ACUSADO  \n",
       "0       MOTO-AUTO    MOTO       AUTO  \n",
       "1  AUTO-PASAJEROS    AUTO  PASAJEROS  \n",
       "2       MOTO-AUTO    MOTO       AUTO  \n",
       "3         MOTO-SD    MOTO         SD  \n",
       "4  MOTO-PASAJEROS    MOTO  PASAJEROS  \n",
       "\n",
       "[5 rows x 21 columns]"
      ]
     },
     "execution_count": 77,
     "metadata": {},
     "output_type": "execute_result"
    }
   ],
   "source": [
    "df_datos_hechos.head()"
   ]
  },
  {
   "cell_type": "code",
   "execution_count": 78,
   "metadata": {},
   "outputs": [
    {
     "name": "stdout",
     "output_type": "stream",
     "text": [
      "<class 'pandas.core.frame.DataFrame'>\n",
      "RangeIndex: 696 entries, 0 to 695\n",
      "Data columns (total 21 columns):\n",
      " #   Column                 Non-Null Count  Dtype         \n",
      "---  ------                 --------------  -----         \n",
      " 0   ID                     696 non-null    object        \n",
      " 1   N_VICTIMAS             696 non-null    int64         \n",
      " 2   FECHA                  696 non-null    datetime64[ns]\n",
      " 3   AAAA                   696 non-null    int64         \n",
      " 4   MM                     696 non-null    int64         \n",
      " 5   DD                     696 non-null    int64         \n",
      " 6   HORA                   696 non-null    object        \n",
      " 7   HH                     696 non-null    object        \n",
      " 8   LUGAR_DEL_HECHO        696 non-null    object        \n",
      " 9   TIPO_DE_CALLE          696 non-null    object        \n",
      " 10  Calle                  695 non-null    object        \n",
      " 11  Altura                 129 non-null    float64       \n",
      " 12  Cruce                  525 non-null    object        \n",
      " 13  Dirección Normalizada  688 non-null    object        \n",
      " 14  COMUNA                 696 non-null    int64         \n",
      " 15  XY (CABA)              696 non-null    object        \n",
      " 16  pos x                  696 non-null    object        \n",
      " 17  pos y                  696 non-null    object        \n",
      " 18  PARTICIPANTES          696 non-null    object        \n",
      " 19  VICTIMA                696 non-null    object        \n",
      " 20  ACUSADO                696 non-null    object        \n",
      "dtypes: datetime64[ns](1), float64(1), int64(5), object(14)\n",
      "memory usage: 114.3+ KB\n"
     ]
    }
   ],
   "source": [
    "# Se obtiene la informacion general del dataframe\n",
    "df_datos_hechos.info()"
   ]
  },
  {
   "cell_type": "code",
   "execution_count": 79,
   "metadata": {},
   "outputs": [],
   "source": [
    "# Se convierten las columnas a minuscula para evitar problemas\n",
    "columnas_a_minusculas = ['TIPO_DE_CALLE', 'VICTIMA','ACUSADO']\n",
    "\n",
    "# Se itera sobre las columnas seleccionadas y se pasan a minúsculas\n",
    "for columna in columnas_a_minusculas:\n",
    "    df_datos_hechos[columna] = df_datos_hechos[columna].str.lower()"
   ]
  },
  {
   "cell_type": "code",
   "execution_count": 80,
   "metadata": {},
   "outputs": [
    {
     "name": "stdout",
     "output_type": "stream",
     "text": [
      "<class 'pandas.core.frame.DataFrame'>\n",
      "RangeIndex: 696 entries, 0 to 695\n",
      "Data columns (total 21 columns):\n",
      " #   Column                 Non-Null Count  Dtype         \n",
      "---  ------                 --------------  -----         \n",
      " 0   ID                     696 non-null    object        \n",
      " 1   N_VICTIMAS             696 non-null    int64         \n",
      " 2   FECHA                  696 non-null    datetime64[ns]\n",
      " 3   AAAA                   696 non-null    int64         \n",
      " 4   MM                     696 non-null    int64         \n",
      " 5   DD                     696 non-null    int64         \n",
      " 6   HORA                   696 non-null    object        \n",
      " 7   HH                     696 non-null    object        \n",
      " 8   LUGAR_DEL_HECHO        696 non-null    object        \n",
      " 9   TIPO_DE_CALLE          696 non-null    object        \n",
      " 10  Calle                  695 non-null    object        \n",
      " 11  Altura                 129 non-null    float64       \n",
      " 12  Cruce                  525 non-null    object        \n",
      " 13  Dirección Normalizada  688 non-null    object        \n",
      " 14  COMUNA                 696 non-null    int64         \n",
      " 15  XY (CABA)              696 non-null    object        \n",
      " 16  pos x                  696 non-null    object        \n",
      " 17  pos y                  696 non-null    object        \n",
      " 18  PARTICIPANTES          696 non-null    object        \n",
      " 19  VICTIMA                696 non-null    object        \n",
      " 20  ACUSADO                696 non-null    object        \n",
      "dtypes: datetime64[ns](1), float64(1), int64(5), object(14)\n",
      "memory usage: 114.3+ KB\n"
     ]
    }
   ],
   "source": [
    "df_datos_hechos.info()"
   ]
  },
  {
   "cell_type": "code",
   "execution_count": 81,
   "metadata": {},
   "outputs": [],
   "source": [
    "# Se eliminan las columnas (\"aaaa\",\"mm\",\"dd\") ya que hay una columna fecha que abarca la misma informacion\n",
    "# Se elimina las columnas (\"lugar_del_hecho\",'Calle','Altura','Cruce') ya que la columna direccion normalizada resume la misma informacion\n",
    "# Se elimina las columnas ('xy (caba)','participantes') ya que ambas columnas contienen datos que estan en otras columnas del dataframe\n",
    "columnas_eliminar = ['AAAA', 'MM', 'DD', 'HORA', 'LUGAR_DEL_HECHO', 'Calle', 'Altura',\n",
    "                     'Cruce', 'XY (CABA)', 'PARTICIPANTES', 'Dirección Normalizada']\n",
    "\n",
    "\n",
    "df_datos_hechos.drop(columnas_eliminar,axis=1,inplace=True)"
   ]
  },
  {
   "cell_type": "code",
   "execution_count": 82,
   "metadata": {},
   "outputs": [
    {
     "name": "stdout",
     "output_type": "stream",
     "text": [
      "<class 'pandas.core.frame.DataFrame'>\n",
      "RangeIndex: 696 entries, 0 to 695\n",
      "Data columns (total 10 columns):\n",
      " #   Column         Non-Null Count  Dtype         \n",
      "---  ------         --------------  -----         \n",
      " 0   ID             696 non-null    object        \n",
      " 1   N_VICTIMAS     696 non-null    int64         \n",
      " 2   FECHA          696 non-null    datetime64[ns]\n",
      " 3   HH             696 non-null    object        \n",
      " 4   TIPO_DE_CALLE  696 non-null    object        \n",
      " 5   COMUNA         696 non-null    int64         \n",
      " 6   pos x          696 non-null    object        \n",
      " 7   pos y          696 non-null    object        \n",
      " 8   VICTIMA        696 non-null    object        \n",
      " 9   ACUSADO        696 non-null    object        \n",
      "dtypes: datetime64[ns](1), int64(2), object(7)\n",
      "memory usage: 54.5+ KB\n"
     ]
    }
   ],
   "source": [
    "df_datos_hechos.info()"
   ]
  },
  {
   "cell_type": "code",
   "execution_count": 83,
   "metadata": {},
   "outputs": [],
   "source": [
    "def analizar_valores_sd(dataframe):\n",
    "    columnas_con_sd = dataframe.columns\n",
    "    resultados = []\n",
    "\n",
    "    for columna in columnas_con_sd:\n",
    "        cantidad_sd = dataframe[columna].eq('SD').sum()\n",
    "        resultados.append({'Columna': columna, 'Cantidad de SD': cantidad_sd})\n",
    "\n",
    "    resultados_df = pd.DataFrame(resultados)\n",
    "    resultados_con_sd = resultados_df[resultados_df['Cantidad de SD'] > 0]\n",
    "\n",
    "    return resultados_con_sd"
   ]
  },
  {
   "cell_type": "code",
   "execution_count": 84,
   "metadata": {},
   "outputs": [
    {
     "data": {
      "text/html": [
       "<div>\n",
       "<style scoped>\n",
       "    .dataframe tbody tr th:only-of-type {\n",
       "        vertical-align: middle;\n",
       "    }\n",
       "\n",
       "    .dataframe tbody tr th {\n",
       "        vertical-align: top;\n",
       "    }\n",
       "\n",
       "    .dataframe thead th {\n",
       "        text-align: right;\n",
       "    }\n",
       "</style>\n",
       "<table border=\"1\" class=\"dataframe\">\n",
       "  <thead>\n",
       "    <tr style=\"text-align: right;\">\n",
       "      <th></th>\n",
       "      <th>Columna</th>\n",
       "      <th>Cantidad de SD</th>\n",
       "    </tr>\n",
       "  </thead>\n",
       "  <tbody>\n",
       "    <tr>\n",
       "      <th>3</th>\n",
       "      <td>HH</td>\n",
       "      <td>1</td>\n",
       "    </tr>\n",
       "  </tbody>\n",
       "</table>\n",
       "</div>"
      ],
      "text/plain": [
       "  Columna  Cantidad de SD\n",
       "3      HH               1"
      ]
     },
     "execution_count": 84,
     "metadata": {},
     "output_type": "execute_result"
    }
   ],
   "source": [
    "# Se cuentan la cantidad de valores \"SD\" o \"sd\" (sin datos) que hay en todo el dataframe\n",
    "analizar_valores_sd(df_datos_hechos)"
   ]
  },
  {
   "cell_type": "code",
   "execution_count": 85,
   "metadata": {},
   "outputs": [],
   "source": [
    "# Se remplazan los valores \"SD\" o \"sd\" por NaN en todo el dataframe\n",
    "df_datos_hechos.replace(['SD','sd'], np.nan, inplace=True)"
   ]
  },
  {
   "cell_type": "code",
   "execution_count": 86,
   "metadata": {},
   "outputs": [
    {
     "data": {
      "text/html": [
       "<div>\n",
       "<style scoped>\n",
       "    .dataframe tbody tr th:only-of-type {\n",
       "        vertical-align: middle;\n",
       "    }\n",
       "\n",
       "    .dataframe tbody tr th {\n",
       "        vertical-align: top;\n",
       "    }\n",
       "\n",
       "    .dataframe thead th {\n",
       "        text-align: right;\n",
       "    }\n",
       "</style>\n",
       "<table border=\"1\" class=\"dataframe\">\n",
       "  <thead>\n",
       "    <tr style=\"text-align: right;\">\n",
       "      <th></th>\n",
       "      <th>Columna</th>\n",
       "      <th>Cantidad de SD</th>\n",
       "    </tr>\n",
       "  </thead>\n",
       "  <tbody>\n",
       "  </tbody>\n",
       "</table>\n",
       "</div>"
      ],
      "text/plain": [
       "Empty DataFrame\n",
       "Columns: [Columna, Cantidad de SD]\n",
       "Index: []"
      ]
     },
     "execution_count": 86,
     "metadata": {},
     "output_type": "execute_result"
    }
   ],
   "source": [
    "# Verificamos que se hayan efectuado los cambios\n",
    "analizar_valores_sd(df_datos_hechos)"
   ]
  },
  {
   "cell_type": "code",
   "execution_count": 87,
   "metadata": {},
   "outputs": [
    {
     "name": "stdout",
     "output_type": "stream",
     "text": [
      "            ID  N_VICTIMAS      FECHA  HH TIPO_DE_CALLE  COMUNA         pos x  \\\n",
      "518  2019-0103           1 2019-12-18 NaN      gral paz      11  -58.52169422   \n",
      "\n",
      "            pos y VICTIMA ACUSADO  \n",
      "518  -34.59471640    moto    moto  \n"
     ]
    }
   ],
   "source": [
    "# Filtrar las filas donde la columna 'hh' tiene valores NaN\n",
    "filas_con_nan = df_datos_hechos[df_datos_hechos['HH'].isna()]\n",
    "print(filas_con_nan)"
   ]
  },
  {
   "cell_type": "code",
   "execution_count": 88,
   "metadata": {},
   "outputs": [],
   "source": [
    "# Se convierte la columna 'hh' a números, manejar errores y convertir no numéricos a NaN\n",
    "df_datos_hechos['HH'] = pd.to_numeric(df_datos_hechos['HH'], errors='coerce')\n",
    "\n",
    "# Se convierte a 'float64' para admitir NaN\n",
    "df_datos_hechos['HH'] = df_datos_hechos['HH'].astype('float64')\n",
    "\n",
    "# Se convierte a 'Int64' para preservar NaN y tratar los demás valores como enteros\n",
    "df_datos_hechos['HH'] = df_datos_hechos['HH'].astype('Int64')"
   ]
  },
  {
   "cell_type": "code",
   "execution_count": 89,
   "metadata": {},
   "outputs": [],
   "source": [
    "# Lista de columnas que se van a categorizar. Se categorizan las columnas con el objetivo de \n",
    "# facilitar el analisis exploratorio y las visualizaciones.\n",
    "columns_to_categorize = ['HH', 'TIPO_DE_CALLE', 'COMUNA', 'VICTIMA', 'ACUSADO']\n",
    "\n",
    "for column in columns_to_categorize:\n",
    "    df_datos_hechos[column] = pd.Categorical(df_datos_hechos[column])\n"
   ]
  },
  {
   "cell_type": "code",
   "execution_count": 90,
   "metadata": {},
   "outputs": [
    {
     "name": "stdout",
     "output_type": "stream",
     "text": [
      "            ID  N_VICTIMAS      FECHA  HH TIPO_DE_CALLE COMUNA pos x pos y  \\\n",
      "38   2016-0052           1 2016-04-20  20     autopista     13     .     .   \n",
      "106  2016-0136           1 2016-10-25   0     autopista      4     .     .   \n",
      "119  2016-0151           1 2016-11-18  20         calle      0     .     .   \n",
      "139  2016-0174           1 2016-12-27   0     autopista      0     .     .   \n",
      "176  2017-0042           1 2017-04-10   9      gral paz     14     .     .   \n",
      "180  2017-0050           2 2017-04-28  11     autopista      9     .     .   \n",
      "181  2017-0051           1 2017-05-01   3     autopista      7     .     .   \n",
      "256  2017-0140           1 2017-11-19  23     autopista      4     .     .   \n",
      "313  2018-0039           1 2018-04-21  22     autopista     14     .     .   \n",
      "546  2020-0026           1 2020-05-17   6     autopista     14     .     .   \n",
      "559  2020-0039           1 2020-09-01  19         calle      9     .     .   \n",
      "621  2021-0023           1 2021-03-01   9     autopista      4     .     .   \n",
      "\n",
      "    VICTIMA      ACUSADO  \n",
      "38     moto          NaN  \n",
      "106    moto       cargas  \n",
      "119  peaton          NaN  \n",
      "139     NaN          NaN  \n",
      "176    moto       cargas  \n",
      "180    moto       cargas  \n",
      "181    auto         auto  \n",
      "256    moto    pasajeros  \n",
      "313  peaton         auto  \n",
      "546    moto  objeto fijo  \n",
      "559  peaton       cargas  \n",
      "621    moto       cargas  \n"
     ]
    }
   ],
   "source": [
    "# Lista de columnas a verificar\n",
    "columnas_a_verificar = ['COMUNA', 'pos x', 'pos y']\n",
    "\n",
    "# Se filtran las filas con valores iguales a 0 o \".\" en las columnas especificadas\n",
    "filas_con_cero_o_vacios = df_datos_hechos[df_datos_hechos[columnas_a_verificar].eq(0).any(axis=1) | df_datos_hechos[columnas_a_verificar].eq('.').any(axis=1)]\n",
    "\n",
    "# Mostrar las filas seleccionadas\n",
    "print(filas_con_cero_o_vacios)\n"
   ]
  },
  {
   "cell_type": "code",
   "execution_count": 91,
   "metadata": {},
   "outputs": [],
   "source": [
    "registros_vacios=[\n",
    "    {'ID': '2016-0052', 'COMUNA': 13, 'pos x':  -58.446910738, 'pos y': -34.543916034}, \n",
    "    {'ID': '2016-0136', 'COMUNA': 4, 'pos x': -58.355021188, 'pos y': -34.629822714},  \n",
    "    {'ID': '2016-0151', 'COMUNA': 10, 'pos x': -58.52756365, 'pos y': -34.62772274}, \n",
    "    {'ID': '2016-0174', 'COMUNA': 7, 'pos x': -58.439199691, 'pos y': -34.631119348}, \n",
    "    {'ID': '2017-0042', 'COMUNA': 14, 'pos x': -58.457579360, 'pos y': -34.538957930}, \n",
    "    {'ID': '2017-0050', 'COMUNA': 9, 'pos x': -58.481800300, 'pos y': -34.647005340}, \n",
    "    {'ID': '2017-0051', 'COMUNA': 7, 'pos x':  -58.49389816, 'pos y': -34.63965969},      \n",
    "    {'ID': '2017-0140', 'COMUNA': 4, 'pos x': -58.37676334, 'pos y': -34.637748009}, \n",
    "    {'ID': '2018-0039', 'COMUNA': 14, 'pos x': -58.438563633, 'pos y': -34.548451872},   \n",
    "    {'ID': '2020-0026', 'COMUNA': 14, 'pos x': -34.54696676, 'pos y': -58.439152924}, \n",
    "    {'ID': '2020-0039', 'COMUNA': 9, 'pos x':  -58.493233104, 'pos y': -34.663248927},    \n",
    "    {'ID': '2021-0023', 'COMUNA': 4, 'pos x': -57.95949970, 'pos y': -34.927029412},   \n",
    "] \n",
    "\n",
    "\n",
    "# Se itera sobre los registros y realizar el reemplazo para todas las filas\n",
    "for registro in registros_vacios:\n",
    "    id = registro['ID']\n",
    "    comuna = registro['COMUNA']\n",
    "    pos_x = registro['pos x']\n",
    "    pos_y= registro['pos y']\n",
    "\n",
    "    # Se utiliza loc para reemplazar los valores específicos para todas las filas\n",
    "    df_datos_hechos.loc[df_datos_hechos['ID'] == id, 'COMUNA'] = comuna\n",
    "    df_datos_hechos.loc[df_datos_hechos['ID'] == id, 'pos x'] = pos_x\n",
    "    df_datos_hechos.loc[df_datos_hechos['ID'] == id, 'pos y'] = pos_y\n"
   ]
  },
  {
   "attachments": {},
   "cell_type": "markdown",
   "metadata": {},
   "source": [
    "Se remplazan los valores vacios dentro de 'comuna', 'pos_x' y 'pos_y'.La mayoria pudieron ser ubicados en google maps gracias a las calles, solo hubo uno(2016-0151) que no tenia comuna, calle, latitud ni longitud, solo tenia el tipo de calle y se procedio a tomar los valores del siniestro mas proximo, que se haya dado en una calle para completar los datos faltantes. "
   ]
  },
  {
   "cell_type": "code",
   "execution_count": 92,
   "metadata": {},
   "outputs": [
    {
     "name": "stdout",
     "output_type": "stream",
     "text": [
      "Empty DataFrame\n",
      "Columns: [ID, N_VICTIMAS, FECHA, HH, TIPO_DE_CALLE, COMUNA, pos x, pos y, VICTIMA, ACUSADO]\n",
      "Index: []\n"
     ]
    }
   ],
   "source": [
    "# Lista de columnas a verificar\n",
    "columnas_a_verificar = ['COMUNA', 'pos x', 'pos y']\n",
    "\n",
    "# Se filtran las filas con valores iguales a 0 o \".\" en las columnas especificadas\n",
    "filas_con_cero_o_vacios = df_datos_hechos[df_datos_hechos[columnas_a_verificar].eq(0).any(axis=1) | df_datos_hechos[columnas_a_verificar].eq('.').any(axis=1)]\n",
    "\n",
    "# Mostrar las filas seleccionadas\n",
    "print(filas_con_cero_o_vacios)\n"
   ]
  },
  {
   "cell_type": "code",
   "execution_count": 93,
   "metadata": {},
   "outputs": [],
   "source": [
    "# Se convierte las columnas \"pos_x\" y \"pos_y\" a tipo de dato float\n",
    "df_datos_hechos['pos x'] = pd.to_numeric(df_datos_hechos['pos x'], errors='coerce').astype(float)\n",
    "df_datos_hechos['pos y'] = pd.to_numeric(df_datos_hechos['pos y'], errors='coerce').astype(float)\n"
   ]
  },
  {
   "cell_type": "code",
   "execution_count": 94,
   "metadata": {},
   "outputs": [],
   "source": [
    "# Se crea un diccionario con los nuevos nombres de las columnas\n",
    "mapeo_nombres = {'ID': 'id_siniestro', 'N_VICTIMAS': 'nro_victimas','HH':'franja_horaria',\n",
    "                'pos x':'longitud','pos y':'latitud','VICTIMA':'vehiculo_victima',\n",
    "                'ACUSADO':'vehiculo_acusado','FECHA':'fecha','TIPO_DE_CALLE':'tipo_de_calle','COMUNA':'comuna'}\n",
    "\n",
    "# Utiliza el método rename para renombrar las columnas específicas\n",
    "df_datos_hechos.rename(columns=mapeo_nombres, inplace=True)\n"
   ]
  },
  {
   "cell_type": "code",
   "execution_count": 95,
   "metadata": {},
   "outputs": [
    {
     "name": "stdout",
     "output_type": "stream",
     "text": [
      "\n",
      "ETL DataFrame:\n"
     ]
    },
    {
     "data": {
      "text/html": [
       "<div>\n",
       "<style scoped>\n",
       "    .dataframe tbody tr th:only-of-type {\n",
       "        vertical-align: middle;\n",
       "    }\n",
       "\n",
       "    .dataframe tbody tr th {\n",
       "        vertical-align: top;\n",
       "    }\n",
       "\n",
       "    .dataframe thead th {\n",
       "        text-align: right;\n",
       "    }\n",
       "</style>\n",
       "<table border=\"1\" class=\"dataframe\">\n",
       "  <thead>\n",
       "    <tr style=\"text-align: right;\">\n",
       "      <th></th>\n",
       "      <th>id_siniestro</th>\n",
       "      <th>nro_victimas</th>\n",
       "      <th>fecha</th>\n",
       "      <th>franja_horaria</th>\n",
       "      <th>tipo_de_calle</th>\n",
       "      <th>comuna</th>\n",
       "      <th>longitud</th>\n",
       "      <th>latitud</th>\n",
       "      <th>vehiculo_victima</th>\n",
       "      <th>vehiculo_acusado</th>\n",
       "    </tr>\n",
       "  </thead>\n",
       "  <tbody>\n",
       "    <tr>\n",
       "      <th>0</th>\n",
       "      <td>2016-0001</td>\n",
       "      <td>1</td>\n",
       "      <td>2016-01-01</td>\n",
       "      <td>4</td>\n",
       "      <td>avenida</td>\n",
       "      <td>8</td>\n",
       "      <td>-58.475340</td>\n",
       "      <td>-34.687570</td>\n",
       "      <td>moto</td>\n",
       "      <td>auto</td>\n",
       "    </tr>\n",
       "    <tr>\n",
       "      <th>1</th>\n",
       "      <td>2016-0002</td>\n",
       "      <td>1</td>\n",
       "      <td>2016-01-02</td>\n",
       "      <td>1</td>\n",
       "      <td>gral paz</td>\n",
       "      <td>9</td>\n",
       "      <td>-58.508775</td>\n",
       "      <td>-34.669777</td>\n",
       "      <td>auto</td>\n",
       "      <td>pasajeros</td>\n",
       "    </tr>\n",
       "    <tr>\n",
       "      <th>2</th>\n",
       "      <td>2016-0003</td>\n",
       "      <td>1</td>\n",
       "      <td>2016-01-03</td>\n",
       "      <td>7</td>\n",
       "      <td>avenida</td>\n",
       "      <td>1</td>\n",
       "      <td>-58.390403</td>\n",
       "      <td>-34.631894</td>\n",
       "      <td>moto</td>\n",
       "      <td>auto</td>\n",
       "    </tr>\n",
       "    <tr>\n",
       "      <th>3</th>\n",
       "      <td>2016-0004</td>\n",
       "      <td>1</td>\n",
       "      <td>2016-01-10</td>\n",
       "      <td>0</td>\n",
       "      <td>avenida</td>\n",
       "      <td>8</td>\n",
       "      <td>-58.465039</td>\n",
       "      <td>-34.680930</td>\n",
       "      <td>moto</td>\n",
       "      <td>NaN</td>\n",
       "    </tr>\n",
       "    <tr>\n",
       "      <th>4</th>\n",
       "      <td>2016-0005</td>\n",
       "      <td>1</td>\n",
       "      <td>2016-01-21</td>\n",
       "      <td>5</td>\n",
       "      <td>avenida</td>\n",
       "      <td>1</td>\n",
       "      <td>-58.387183</td>\n",
       "      <td>-34.622466</td>\n",
       "      <td>moto</td>\n",
       "      <td>pasajeros</td>\n",
       "    </tr>\n",
       "  </tbody>\n",
       "</table>\n",
       "</div>"
      ],
      "text/plain": [
       "  id_siniestro  nro_victimas      fecha franja_horaria tipo_de_calle comuna  \\\n",
       "0    2016-0001             1 2016-01-01              4       avenida      8   \n",
       "1    2016-0002             1 2016-01-02              1      gral paz      9   \n",
       "2    2016-0003             1 2016-01-03              7       avenida      1   \n",
       "3    2016-0004             1 2016-01-10              0       avenida      8   \n",
       "4    2016-0005             1 2016-01-21              5       avenida      1   \n",
       "\n",
       "    longitud    latitud vehiculo_victima vehiculo_acusado  \n",
       "0 -58.475340 -34.687570             moto             auto  \n",
       "1 -58.508775 -34.669777             auto        pasajeros  \n",
       "2 -58.390403 -34.631894             moto             auto  \n",
       "3 -58.465039 -34.680930             moto              NaN  \n",
       "4 -58.387183 -34.622466             moto        pasajeros  "
      ]
     },
     "execution_count": 95,
     "metadata": {},
     "output_type": "execute_result"
    }
   ],
   "source": [
    "print(\"\\nETL DataFrame:\")\n",
    "df_datos_hechos.head()"
   ]
  },
  {
   "attachments": {},
   "cell_type": "markdown",
   "metadata": {},
   "source": [
    "DATASETS HOMICIDIOS VICTIMAS"
   ]
  },
  {
   "cell_type": "code",
   "execution_count": 96,
   "metadata": {},
   "outputs": [],
   "source": [
    "df_victimas=datos_excel['VICTIMAS']"
   ]
  },
  {
   "cell_type": "code",
   "execution_count": 97,
   "metadata": {},
   "outputs": [
    {
     "data": {
      "text/html": [
       "<div>\n",
       "<style scoped>\n",
       "    .dataframe tbody tr th:only-of-type {\n",
       "        vertical-align: middle;\n",
       "    }\n",
       "\n",
       "    .dataframe tbody tr th {\n",
       "        vertical-align: top;\n",
       "    }\n",
       "\n",
       "    .dataframe thead th {\n",
       "        text-align: right;\n",
       "    }\n",
       "</style>\n",
       "<table border=\"1\" class=\"dataframe\">\n",
       "  <thead>\n",
       "    <tr style=\"text-align: right;\">\n",
       "      <th></th>\n",
       "      <th>ID_hecho</th>\n",
       "      <th>FECHA</th>\n",
       "      <th>AAAA</th>\n",
       "      <th>MM</th>\n",
       "      <th>DD</th>\n",
       "      <th>ROL</th>\n",
       "      <th>VICTIMA</th>\n",
       "      <th>SEXO</th>\n",
       "      <th>EDAD</th>\n",
       "      <th>FECHA_FALLECIMIENTO</th>\n",
       "    </tr>\n",
       "  </thead>\n",
       "  <tbody>\n",
       "    <tr>\n",
       "      <th>0</th>\n",
       "      <td>2016-0001</td>\n",
       "      <td>2016-01-01</td>\n",
       "      <td>2016</td>\n",
       "      <td>1</td>\n",
       "      <td>1</td>\n",
       "      <td>CONDUCTOR</td>\n",
       "      <td>MOTO</td>\n",
       "      <td>MASCULINO</td>\n",
       "      <td>19</td>\n",
       "      <td>2016-01-01 00:00:00</td>\n",
       "    </tr>\n",
       "    <tr>\n",
       "      <th>1</th>\n",
       "      <td>2016-0002</td>\n",
       "      <td>2016-01-02</td>\n",
       "      <td>2016</td>\n",
       "      <td>1</td>\n",
       "      <td>2</td>\n",
       "      <td>CONDUCTOR</td>\n",
       "      <td>AUTO</td>\n",
       "      <td>MASCULINO</td>\n",
       "      <td>70</td>\n",
       "      <td>2016-01-02 00:00:00</td>\n",
       "    </tr>\n",
       "    <tr>\n",
       "      <th>2</th>\n",
       "      <td>2016-0003</td>\n",
       "      <td>2016-01-03</td>\n",
       "      <td>2016</td>\n",
       "      <td>1</td>\n",
       "      <td>3</td>\n",
       "      <td>CONDUCTOR</td>\n",
       "      <td>MOTO</td>\n",
       "      <td>MASCULINO</td>\n",
       "      <td>30</td>\n",
       "      <td>2016-01-03 00:00:00</td>\n",
       "    </tr>\n",
       "    <tr>\n",
       "      <th>3</th>\n",
       "      <td>2016-0004</td>\n",
       "      <td>2016-01-10</td>\n",
       "      <td>2016</td>\n",
       "      <td>1</td>\n",
       "      <td>10</td>\n",
       "      <td>CONDUCTOR</td>\n",
       "      <td>MOTO</td>\n",
       "      <td>MASCULINO</td>\n",
       "      <td>18</td>\n",
       "      <td>SD</td>\n",
       "    </tr>\n",
       "    <tr>\n",
       "      <th>4</th>\n",
       "      <td>2016-0005</td>\n",
       "      <td>2016-01-21</td>\n",
       "      <td>2016</td>\n",
       "      <td>1</td>\n",
       "      <td>21</td>\n",
       "      <td>CONDUCTOR</td>\n",
       "      <td>MOTO</td>\n",
       "      <td>MASCULINO</td>\n",
       "      <td>29</td>\n",
       "      <td>2016-02-01 00:00:00</td>\n",
       "    </tr>\n",
       "  </tbody>\n",
       "</table>\n",
       "</div>"
      ],
      "text/plain": [
       "    ID_hecho      FECHA  AAAA  MM  DD        ROL VICTIMA       SEXO EDAD  \\\n",
       "0  2016-0001 2016-01-01  2016   1   1  CONDUCTOR    MOTO  MASCULINO   19   \n",
       "1  2016-0002 2016-01-02  2016   1   2  CONDUCTOR    AUTO  MASCULINO   70   \n",
       "2  2016-0003 2016-01-03  2016   1   3  CONDUCTOR    MOTO  MASCULINO   30   \n",
       "3  2016-0004 2016-01-10  2016   1  10  CONDUCTOR    MOTO  MASCULINO   18   \n",
       "4  2016-0005 2016-01-21  2016   1  21  CONDUCTOR    MOTO  MASCULINO   29   \n",
       "\n",
       "   FECHA_FALLECIMIENTO  \n",
       "0  2016-01-01 00:00:00  \n",
       "1  2016-01-02 00:00:00  \n",
       "2  2016-01-03 00:00:00  \n",
       "3                   SD  \n",
       "4  2016-02-01 00:00:00  "
      ]
     },
     "execution_count": 97,
     "metadata": {},
     "output_type": "execute_result"
    }
   ],
   "source": [
    "df_victimas.head()"
   ]
  },
  {
   "cell_type": "code",
   "execution_count": 98,
   "metadata": {},
   "outputs": [
    {
     "name": "stdout",
     "output_type": "stream",
     "text": [
      "<class 'pandas.core.frame.DataFrame'>\n",
      "RangeIndex: 717 entries, 0 to 716\n",
      "Data columns (total 10 columns):\n",
      " #   Column               Non-Null Count  Dtype         \n",
      "---  ------               --------------  -----         \n",
      " 0   ID_hecho             717 non-null    object        \n",
      " 1   FECHA                717 non-null    datetime64[ns]\n",
      " 2   AAAA                 717 non-null    int64         \n",
      " 3   MM                   717 non-null    int64         \n",
      " 4   DD                   717 non-null    int64         \n",
      " 5   ROL                  717 non-null    object        \n",
      " 6   VICTIMA              717 non-null    object        \n",
      " 7   SEXO                 717 non-null    object        \n",
      " 8   EDAD                 717 non-null    object        \n",
      " 9   FECHA_FALLECIMIENTO  717 non-null    object        \n",
      "dtypes: datetime64[ns](1), int64(3), object(6)\n",
      "memory usage: 56.1+ KB\n"
     ]
    }
   ],
   "source": [
    "# Se obtiene la informacion general del dataframe\n",
    "df_victimas.info()"
   ]
  },
  {
   "cell_type": "code",
   "execution_count": 99,
   "metadata": {},
   "outputs": [
    {
     "data": {
      "text/html": [
       "<div>\n",
       "<style scoped>\n",
       "    .dataframe tbody tr th:only-of-type {\n",
       "        vertical-align: middle;\n",
       "    }\n",
       "\n",
       "    .dataframe tbody tr th {\n",
       "        vertical-align: top;\n",
       "    }\n",
       "\n",
       "    .dataframe thead th {\n",
       "        text-align: right;\n",
       "    }\n",
       "</style>\n",
       "<table border=\"1\" class=\"dataframe\">\n",
       "  <thead>\n",
       "    <tr style=\"text-align: right;\">\n",
       "      <th></th>\n",
       "      <th>Columna</th>\n",
       "      <th>Cantidad de SD</th>\n",
       "    </tr>\n",
       "  </thead>\n",
       "  <tbody>\n",
       "    <tr>\n",
       "      <th>5</th>\n",
       "      <td>ROL</td>\n",
       "      <td>11</td>\n",
       "    </tr>\n",
       "    <tr>\n",
       "      <th>6</th>\n",
       "      <td>VICTIMA</td>\n",
       "      <td>9</td>\n",
       "    </tr>\n",
       "    <tr>\n",
       "      <th>7</th>\n",
       "      <td>SEXO</td>\n",
       "      <td>6</td>\n",
       "    </tr>\n",
       "    <tr>\n",
       "      <th>8</th>\n",
       "      <td>EDAD</td>\n",
       "      <td>53</td>\n",
       "    </tr>\n",
       "    <tr>\n",
       "      <th>9</th>\n",
       "      <td>FECHA_FALLECIMIENTO</td>\n",
       "      <td>68</td>\n",
       "    </tr>\n",
       "  </tbody>\n",
       "</table>\n",
       "</div>"
      ],
      "text/plain": [
       "               Columna  Cantidad de SD\n",
       "5                  ROL              11\n",
       "6              VICTIMA               9\n",
       "7                 SEXO               6\n",
       "8                 EDAD              53\n",
       "9  FECHA_FALLECIMIENTO              68"
      ]
     },
     "execution_count": 99,
     "metadata": {},
     "output_type": "execute_result"
    }
   ],
   "source": [
    "# Invoca la función 'analizar_valores_sd'\n",
    "\n",
    "resultados_victimas = analizar_valores_sd(df_victimas)\n",
    "resultados_victimas"
   ]
  },
  {
   "cell_type": "code",
   "execution_count": 100,
   "metadata": {},
   "outputs": [],
   "source": [
    "# Se reemplaza 'SD' por NaN en todo el DataFrame\n",
    "\n",
    "df_victimas.replace(['SD','sd'], np.nan, inplace=True)"
   ]
  },
  {
   "cell_type": "code",
   "execution_count": 101,
   "metadata": {},
   "outputs": [],
   "source": [
    "columnas_eliminar=['FECHA','AAAA','MM','DD','VICTIMA','FECHA_FALLECIMIENTO']\n",
    "df_victimas.drop(columnas_eliminar,axis=1,inplace=True)"
   ]
  },
  {
   "cell_type": "code",
   "execution_count": 102,
   "metadata": {},
   "outputs": [],
   "source": [
    "# Se convierte la columna 'EDAD' a float y despues a int para preservar Nan\n",
    "df_victimas['EDAD'] = pd.to_numeric(df_victimas['EDAD'], errors='coerce')\n",
    "\n",
    "# Se convierte a 'float64' para admitir NaN\n",
    "df_victimas['EDAD'] = df_victimas['EDAD'].astype('float64')\n",
    "\n",
    "# Se convierte a 'Int64' para preservar NaN y tratar los demás valores como enteros\n",
    "df_victimas['EDAD'] = df_victimas['EDAD'].astype('Int64')"
   ]
  },
  {
   "cell_type": "code",
   "execution_count": 103,
   "metadata": {},
   "outputs": [],
   "source": [
    "# Se convierten las columnas \"SEXO\" y \"ROL\" a minuscula para evitar problemas\n",
    "columnas_a_minusculas = ['SEXO', 'ROL']\n",
    "\n",
    "# Se itera sobre las columnas seleccionadas y se pasan a minúsculas\n",
    "for columna in columnas_a_minusculas:\n",
    "    df_victimas[columna] = df_victimas[columna].str.lower()"
   ]
  },
  {
   "cell_type": "code",
   "execution_count": 104,
   "metadata": {},
   "outputs": [
    {
     "data": {
      "text/html": [
       "<div>\n",
       "<style scoped>\n",
       "    .dataframe tbody tr th:only-of-type {\n",
       "        vertical-align: middle;\n",
       "    }\n",
       "\n",
       "    .dataframe tbody tr th {\n",
       "        vertical-align: top;\n",
       "    }\n",
       "\n",
       "    .dataframe thead th {\n",
       "        text-align: right;\n",
       "    }\n",
       "</style>\n",
       "<table border=\"1\" class=\"dataframe\">\n",
       "  <thead>\n",
       "    <tr style=\"text-align: right;\">\n",
       "      <th></th>\n",
       "      <th>ID_hecho</th>\n",
       "      <th>ROL</th>\n",
       "      <th>SEXO</th>\n",
       "      <th>EDAD</th>\n",
       "    </tr>\n",
       "  </thead>\n",
       "  <tbody>\n",
       "    <tr>\n",
       "      <th>0</th>\n",
       "      <td>2016-0001</td>\n",
       "      <td>conductor</td>\n",
       "      <td>masculino</td>\n",
       "      <td>19</td>\n",
       "    </tr>\n",
       "    <tr>\n",
       "      <th>1</th>\n",
       "      <td>2016-0002</td>\n",
       "      <td>conductor</td>\n",
       "      <td>masculino</td>\n",
       "      <td>70</td>\n",
       "    </tr>\n",
       "    <tr>\n",
       "      <th>2</th>\n",
       "      <td>2016-0003</td>\n",
       "      <td>conductor</td>\n",
       "      <td>masculino</td>\n",
       "      <td>30</td>\n",
       "    </tr>\n",
       "    <tr>\n",
       "      <th>3</th>\n",
       "      <td>2016-0004</td>\n",
       "      <td>conductor</td>\n",
       "      <td>masculino</td>\n",
       "      <td>18</td>\n",
       "    </tr>\n",
       "    <tr>\n",
       "      <th>4</th>\n",
       "      <td>2016-0005</td>\n",
       "      <td>conductor</td>\n",
       "      <td>masculino</td>\n",
       "      <td>29</td>\n",
       "    </tr>\n",
       "  </tbody>\n",
       "</table>\n",
       "</div>"
      ],
      "text/plain": [
       "    ID_hecho        ROL       SEXO  EDAD\n",
       "0  2016-0001  conductor  masculino    19\n",
       "1  2016-0002  conductor  masculino    70\n",
       "2  2016-0003  conductor  masculino    30\n",
       "3  2016-0004  conductor  masculino    18\n",
       "4  2016-0005  conductor  masculino    29"
      ]
     },
     "execution_count": 104,
     "metadata": {},
     "output_type": "execute_result"
    }
   ],
   "source": [
    "df_victimas.head()"
   ]
  },
  {
   "cell_type": "code",
   "execution_count": 105,
   "metadata": {},
   "outputs": [],
   "source": [
    "# Lista de columnas que se van a categorizar. Se categorizan las columnas con el objetivo de \n",
    "# facilitar el analisis exploratorio y las visualizaciones.\n",
    "columns_to_categorize = ['ROL', 'SEXO']\n",
    "\n",
    "for column in columns_to_categorize:\n",
    "    df_victimas[column] = pd.Categorical(df_victimas[column])"
   ]
  },
  {
   "cell_type": "code",
   "execution_count": 106,
   "metadata": {},
   "outputs": [],
   "source": [
    "# Se crea un diccionario con los nuevos nombres de las columnas\n",
    "mapeo_nombres = {'ID_hecho':'id_siniestro','ROL':'rol','SEXO':'sexo','EDAD':'edad'}\n",
    "\n",
    "# Utiliza el método rename para renombrar las columnas específicas\n",
    "df_victimas.rename(columns=mapeo_nombres, inplace=True)"
   ]
  },
  {
   "cell_type": "code",
   "execution_count": 107,
   "metadata": {},
   "outputs": [
    {
     "data": {
      "text/html": [
       "<div>\n",
       "<style scoped>\n",
       "    .dataframe tbody tr th:only-of-type {\n",
       "        vertical-align: middle;\n",
       "    }\n",
       "\n",
       "    .dataframe tbody tr th {\n",
       "        vertical-align: top;\n",
       "    }\n",
       "\n",
       "    .dataframe thead th {\n",
       "        text-align: right;\n",
       "    }\n",
       "</style>\n",
       "<table border=\"1\" class=\"dataframe\">\n",
       "  <thead>\n",
       "    <tr style=\"text-align: right;\">\n",
       "      <th></th>\n",
       "      <th>id_siniestro</th>\n",
       "      <th>rol</th>\n",
       "      <th>sexo</th>\n",
       "      <th>edad</th>\n",
       "    </tr>\n",
       "  </thead>\n",
       "  <tbody>\n",
       "    <tr>\n",
       "      <th>0</th>\n",
       "      <td>2016-0001</td>\n",
       "      <td>conductor</td>\n",
       "      <td>masculino</td>\n",
       "      <td>19</td>\n",
       "    </tr>\n",
       "    <tr>\n",
       "      <th>1</th>\n",
       "      <td>2016-0002</td>\n",
       "      <td>conductor</td>\n",
       "      <td>masculino</td>\n",
       "      <td>70</td>\n",
       "    </tr>\n",
       "    <tr>\n",
       "      <th>2</th>\n",
       "      <td>2016-0003</td>\n",
       "      <td>conductor</td>\n",
       "      <td>masculino</td>\n",
       "      <td>30</td>\n",
       "    </tr>\n",
       "    <tr>\n",
       "      <th>3</th>\n",
       "      <td>2016-0004</td>\n",
       "      <td>conductor</td>\n",
       "      <td>masculino</td>\n",
       "      <td>18</td>\n",
       "    </tr>\n",
       "    <tr>\n",
       "      <th>4</th>\n",
       "      <td>2016-0005</td>\n",
       "      <td>conductor</td>\n",
       "      <td>masculino</td>\n",
       "      <td>29</td>\n",
       "    </tr>\n",
       "    <tr>\n",
       "      <th>...</th>\n",
       "      <td>...</td>\n",
       "      <td>...</td>\n",
       "      <td>...</td>\n",
       "      <td>...</td>\n",
       "    </tr>\n",
       "    <tr>\n",
       "      <th>712</th>\n",
       "      <td>2021-0092</td>\n",
       "      <td>peaton</td>\n",
       "      <td>femenino</td>\n",
       "      <td>50</td>\n",
       "    </tr>\n",
       "    <tr>\n",
       "      <th>713</th>\n",
       "      <td>2021-0093</td>\n",
       "      <td>pasajero_acompañante</td>\n",
       "      <td>femenino</td>\n",
       "      <td>18</td>\n",
       "    </tr>\n",
       "    <tr>\n",
       "      <th>714</th>\n",
       "      <td>2021-0094</td>\n",
       "      <td>pasajero_acompañante</td>\n",
       "      <td>femenino</td>\n",
       "      <td>43</td>\n",
       "    </tr>\n",
       "    <tr>\n",
       "      <th>715</th>\n",
       "      <td>2021-0095</td>\n",
       "      <td>conductor</td>\n",
       "      <td>masculino</td>\n",
       "      <td>27</td>\n",
       "    </tr>\n",
       "    <tr>\n",
       "      <th>716</th>\n",
       "      <td>2021-0096</td>\n",
       "      <td>conductor</td>\n",
       "      <td>masculino</td>\n",
       "      <td>60</td>\n",
       "    </tr>\n",
       "  </tbody>\n",
       "</table>\n",
       "<p>717 rows × 4 columns</p>\n",
       "</div>"
      ],
      "text/plain": [
       "    id_siniestro                   rol       sexo  edad\n",
       "0      2016-0001             conductor  masculino    19\n",
       "1      2016-0002             conductor  masculino    70\n",
       "2      2016-0003             conductor  masculino    30\n",
       "3      2016-0004             conductor  masculino    18\n",
       "4      2016-0005             conductor  masculino    29\n",
       "..           ...                   ...        ...   ...\n",
       "712    2021-0092                peaton   femenino    50\n",
       "713    2021-0093  pasajero_acompañante   femenino    18\n",
       "714    2021-0094  pasajero_acompañante   femenino    43\n",
       "715    2021-0095             conductor  masculino    27\n",
       "716    2021-0096             conductor  masculino    60\n",
       "\n",
       "[717 rows x 4 columns]"
      ]
     },
     "execution_count": 107,
     "metadata": {},
     "output_type": "execute_result"
    }
   ],
   "source": [
    "df_victimas"
   ]
  },
  {
   "attachments": {},
   "cell_type": "markdown",
   "metadata": {},
   "source": [
    "DATASET LESIONES HECHOS"
   ]
  },
  {
   "cell_type": "code",
   "execution_count": 108,
   "metadata": {},
   "outputs": [],
   "source": [
    "lesiones='lesiones.xlsx'\n",
    "pags='HECHOS','VICTIMAS'\n",
    "datos_Excel_2=cargar_archivo_excel(lesiones, pags)"
   ]
  },
  {
   "cell_type": "code",
   "execution_count": 109,
   "metadata": {},
   "outputs": [],
   "source": [
    "df_hechos_lesiones= datos_Excel_2['HECHOS']"
   ]
  },
  {
   "cell_type": "code",
   "execution_count": 110,
   "metadata": {},
   "outputs": [
    {
     "data": {
      "text/html": [
       "<div>\n",
       "<style scoped>\n",
       "    .dataframe tbody tr th:only-of-type {\n",
       "        vertical-align: middle;\n",
       "    }\n",
       "\n",
       "    .dataframe tbody tr th {\n",
       "        vertical-align: top;\n",
       "    }\n",
       "\n",
       "    .dataframe thead th {\n",
       "        text-align: right;\n",
       "    }\n",
       "</style>\n",
       "<table border=\"1\" class=\"dataframe\">\n",
       "  <thead>\n",
       "    <tr style=\"text-align: right;\">\n",
       "      <th></th>\n",
       "      <th>id</th>\n",
       "      <th>n_victimas</th>\n",
       "      <th>aaaa</th>\n",
       "      <th>mm</th>\n",
       "      <th>dd</th>\n",
       "      <th>fecha</th>\n",
       "      <th>hora</th>\n",
       "      <th>franja_hora</th>\n",
       "      <th>direccion_normalizada</th>\n",
       "      <th>comuna</th>\n",
       "      <th>...</th>\n",
       "      <th>latutid</th>\n",
       "      <th>victima</th>\n",
       "      <th>acusado</th>\n",
       "      <th>participantes</th>\n",
       "      <th>moto</th>\n",
       "      <th>auto</th>\n",
       "      <th>transporte_publico</th>\n",
       "      <th>camion</th>\n",
       "      <th>ciclista</th>\n",
       "      <th>gravedad</th>\n",
       "    </tr>\n",
       "  </thead>\n",
       "  <tbody>\n",
       "    <tr>\n",
       "      <th>0</th>\n",
       "      <td>LC-2019-0000179</td>\n",
       "      <td>1</td>\n",
       "      <td>2019</td>\n",
       "      <td>1</td>\n",
       "      <td>1</td>\n",
       "      <td>2019-01-01 00:00:00</td>\n",
       "      <td>09:00:00</td>\n",
       "      <td>9</td>\n",
       "      <td>SD</td>\n",
       "      <td>14</td>\n",
       "      <td>...</td>\n",
       "      <td>-34.559658</td>\n",
       "      <td>CICLISTA</td>\n",
       "      <td>SD</td>\n",
       "      <td>CICLISTA-SD</td>\n",
       "      <td>SD</td>\n",
       "      <td>SD</td>\n",
       "      <td>SD</td>\n",
       "      <td>SD</td>\n",
       "      <td>x</td>\n",
       "      <td>SD</td>\n",
       "    </tr>\n",
       "    <tr>\n",
       "      <th>1</th>\n",
       "      <td>LC-2019-0000053</td>\n",
       "      <td>1</td>\n",
       "      <td>2019</td>\n",
       "      <td>1</td>\n",
       "      <td>1</td>\n",
       "      <td>2019-01-01 00:00:00</td>\n",
       "      <td>01:55:00</td>\n",
       "      <td>1</td>\n",
       "      <td>SD</td>\n",
       "      <td>8</td>\n",
       "      <td>...</td>\n",
       "      <td>-34.669125</td>\n",
       "      <td>AUTO</td>\n",
       "      <td>SD</td>\n",
       "      <td>AUTO-SD</td>\n",
       "      <td>SD</td>\n",
       "      <td>x</td>\n",
       "      <td>SD</td>\n",
       "      <td>SD</td>\n",
       "      <td>SD</td>\n",
       "      <td>SD</td>\n",
       "    </tr>\n",
       "    <tr>\n",
       "      <th>2</th>\n",
       "      <td>LC-2019-0000063</td>\n",
       "      <td>1</td>\n",
       "      <td>2019</td>\n",
       "      <td>1</td>\n",
       "      <td>1</td>\n",
       "      <td>2019-01-01 00:00:00</td>\n",
       "      <td>02:00:00</td>\n",
       "      <td>2</td>\n",
       "      <td>SD</td>\n",
       "      <td>8</td>\n",
       "      <td>...</td>\n",
       "      <td>-34.677556</td>\n",
       "      <td>SD</td>\n",
       "      <td>SD</td>\n",
       "      <td>SD-SD</td>\n",
       "      <td>SD</td>\n",
       "      <td>SD</td>\n",
       "      <td>SD</td>\n",
       "      <td>SD</td>\n",
       "      <td>SD</td>\n",
       "      <td>SD</td>\n",
       "    </tr>\n",
       "    <tr>\n",
       "      <th>3</th>\n",
       "      <td>LC-2019-0000079</td>\n",
       "      <td>1</td>\n",
       "      <td>2019</td>\n",
       "      <td>1</td>\n",
       "      <td>1</td>\n",
       "      <td>2019-01-01 00:00:00</td>\n",
       "      <td>02:30:00</td>\n",
       "      <td>2</td>\n",
       "      <td>SD</td>\n",
       "      <td>7</td>\n",
       "      <td>...</td>\n",
       "      <td>-34.647349</td>\n",
       "      <td>PEATON</td>\n",
       "      <td>SD</td>\n",
       "      <td>PEATON-SD</td>\n",
       "      <td>x</td>\n",
       "      <td>SD</td>\n",
       "      <td>SD</td>\n",
       "      <td>SD</td>\n",
       "      <td>SD</td>\n",
       "      <td>SD</td>\n",
       "    </tr>\n",
       "    <tr>\n",
       "      <th>4</th>\n",
       "      <td>LC-2019-0000082</td>\n",
       "      <td>4</td>\n",
       "      <td>2019</td>\n",
       "      <td>1</td>\n",
       "      <td>1</td>\n",
       "      <td>2019-01-01 00:00:00</td>\n",
       "      <td>04:30:00</td>\n",
       "      <td>4</td>\n",
       "      <td>SD</td>\n",
       "      <td>3</td>\n",
       "      <td>...</td>\n",
       "      <td>-34.604579</td>\n",
       "      <td>AUTO</td>\n",
       "      <td>SD</td>\n",
       "      <td>AUTO-SD</td>\n",
       "      <td>SD</td>\n",
       "      <td>SD</td>\n",
       "      <td>x</td>\n",
       "      <td>SD</td>\n",
       "      <td>SD</td>\n",
       "      <td>SD</td>\n",
       "    </tr>\n",
       "  </tbody>\n",
       "</table>\n",
       "<p>5 rows × 27 columns</p>\n",
       "</div>"
      ],
      "text/plain": [
       "                id  n_victimas  aaaa  mm  dd                fecha      hora  \\\n",
       "0  LC-2019-0000179           1  2019   1   1  2019-01-01 00:00:00  09:00:00   \n",
       "1  LC-2019-0000053           1  2019   1   1  2019-01-01 00:00:00  01:55:00   \n",
       "2  LC-2019-0000063           1  2019   1   1  2019-01-01 00:00:00  02:00:00   \n",
       "3  LC-2019-0000079           1  2019   1   1  2019-01-01 00:00:00  02:30:00   \n",
       "4  LC-2019-0000082           4  2019   1   1  2019-01-01 00:00:00  04:30:00   \n",
       "\n",
       "  franja_hora direccion_normalizada comuna  ...     latutid   victima acusado  \\\n",
       "0           9                    SD     14  ...  -34.559658  CICLISTA      SD   \n",
       "1           1                    SD      8  ...  -34.669125      AUTO      SD   \n",
       "2           2                    SD      8  ...  -34.677556        SD      SD   \n",
       "3           2                    SD      7  ...  -34.647349    PEATON      SD   \n",
       "4           4                    SD      3  ...  -34.604579      AUTO      SD   \n",
       "\n",
       "   participantes moto auto transporte_publico camion ciclista gravedad  \n",
       "0    CICLISTA-SD   SD   SD                 SD     SD        x       SD  \n",
       "1        AUTO-SD   SD    x                 SD     SD       SD       SD  \n",
       "2          SD-SD   SD   SD                 SD     SD       SD       SD  \n",
       "3      PEATON-SD    x   SD                 SD     SD       SD       SD  \n",
       "4        AUTO-SD   SD   SD                  x     SD       SD       SD  \n",
       "\n",
       "[5 rows x 27 columns]"
      ]
     },
     "execution_count": 110,
     "metadata": {},
     "output_type": "execute_result"
    }
   ],
   "source": [
    "df_hechos_lesiones.head()"
   ]
  },
  {
   "cell_type": "code",
   "execution_count": 111,
   "metadata": {},
   "outputs": [
    {
     "name": "stdout",
     "output_type": "stream",
     "text": [
      "<class 'pandas.core.frame.DataFrame'>\n",
      "RangeIndex: 23785 entries, 0 to 23784\n",
      "Data columns (total 27 columns):\n",
      " #   Column                 Non-Null Count  Dtype  \n",
      "---  ------                 --------------  -----  \n",
      " 0   id                     23785 non-null  object \n",
      " 1   n_victimas             23785 non-null  int64  \n",
      " 2   aaaa                   23785 non-null  int64  \n",
      " 3   mm                     23785 non-null  int64  \n",
      " 4   dd                     23785 non-null  int64  \n",
      " 5   fecha                  23785 non-null  object \n",
      " 6   hora                   23785 non-null  object \n",
      " 7   franja_hora            23780 non-null  object \n",
      " 8   direccion_normalizada  23732 non-null  object \n",
      " 9   comuna                 23616 non-null  object \n",
      " 10  tipo_calle             23785 non-null  object \n",
      " 11  otra_direccion         23785 non-null  object \n",
      " 12  calle                  12867 non-null  object \n",
      " 13  altura                 12771 non-null  float64\n",
      " 14  cruce                  9407 non-null   object \n",
      " 15  geocodificacion_CABA   23746 non-null  object \n",
      " 16  longitud               23523 non-null  object \n",
      " 17  latutid                23523 non-null  object \n",
      " 18  victima                23785 non-null  object \n",
      " 19  acusado                23785 non-null  object \n",
      " 20  participantes          23785 non-null  object \n",
      " 21  moto                   23692 non-null  object \n",
      " 22  auto                   23692 non-null  object \n",
      " 23  transporte_publico     23692 non-null  object \n",
      " 24  camion                 23692 non-null  object \n",
      " 25  ciclista               23692 non-null  object \n",
      " 26  gravedad               23785 non-null  object \n",
      "dtypes: float64(1), int64(4), object(22)\n",
      "memory usage: 4.9+ MB\n"
     ]
    }
   ],
   "source": [
    "# Se Obtiene la información general del DataFrame\n",
    "df_hechos_lesiones.info()"
   ]
  },
  {
   "cell_type": "code",
   "execution_count": 112,
   "metadata": {},
   "outputs": [],
   "source": [
    "columnas_eliminar=['aaaa','mm', 'dd', 'hora', 'direccion_normalizada', 'otra_direccion', 'calle', 'altura', 'cruce',\n",
    "                   'participantes', 'geocodificacion_CABA', 'moto', 'auto', 'transporte_publico', 'camion', 'ciclista']\n",
    "\n",
    "df_hechos_lesiones.drop(columnas_eliminar,axis=1,inplace=True)"
   ]
  },
  {
   "cell_type": "code",
   "execution_count": 113,
   "metadata": {},
   "outputs": [
    {
     "data": {
      "text/html": [
       "<div>\n",
       "<style scoped>\n",
       "    .dataframe tbody tr th:only-of-type {\n",
       "        vertical-align: middle;\n",
       "    }\n",
       "\n",
       "    .dataframe tbody tr th {\n",
       "        vertical-align: top;\n",
       "    }\n",
       "\n",
       "    .dataframe thead th {\n",
       "        text-align: right;\n",
       "    }\n",
       "</style>\n",
       "<table border=\"1\" class=\"dataframe\">\n",
       "  <thead>\n",
       "    <tr style=\"text-align: right;\">\n",
       "      <th></th>\n",
       "      <th>Columna</th>\n",
       "      <th>Cantidad de SD</th>\n",
       "    </tr>\n",
       "  </thead>\n",
       "  <tbody>\n",
       "    <tr>\n",
       "      <th>4</th>\n",
       "      <td>comuna</td>\n",
       "      <td>846</td>\n",
       "    </tr>\n",
       "    <tr>\n",
       "      <th>5</th>\n",
       "      <td>tipo_calle</td>\n",
       "      <td>11045</td>\n",
       "    </tr>\n",
       "    <tr>\n",
       "      <th>6</th>\n",
       "      <td>longitud</td>\n",
       "      <td>1209</td>\n",
       "    </tr>\n",
       "    <tr>\n",
       "      <th>7</th>\n",
       "      <td>latutid</td>\n",
       "      <td>1209</td>\n",
       "    </tr>\n",
       "    <tr>\n",
       "      <th>8</th>\n",
       "      <td>victima</td>\n",
       "      <td>10733</td>\n",
       "    </tr>\n",
       "    <tr>\n",
       "      <th>9</th>\n",
       "      <td>acusado</td>\n",
       "      <td>15288</td>\n",
       "    </tr>\n",
       "    <tr>\n",
       "      <th>10</th>\n",
       "      <td>gravedad</td>\n",
       "      <td>23056</td>\n",
       "    </tr>\n",
       "  </tbody>\n",
       "</table>\n",
       "</div>"
      ],
      "text/plain": [
       "       Columna  Cantidad de SD\n",
       "4       comuna             846\n",
       "5   tipo_calle           11045\n",
       "6     longitud            1209\n",
       "7      latutid            1209\n",
       "8      victima           10733\n",
       "9      acusado           15288\n",
       "10    gravedad           23056"
      ]
     },
     "execution_count": 113,
     "metadata": {},
     "output_type": "execute_result"
    }
   ],
   "source": [
    "sin_datos=analizar_valores_sd(df_hechos_lesiones)\n",
    "sin_datos"
   ]
  },
  {
   "cell_type": "code",
   "execution_count": 114,
   "metadata": {},
   "outputs": [],
   "source": [
    "# Se reemplaza 'SD' por NaN en todo el DataFrame\n",
    "\n",
    "df_hechos_lesiones.replace(['SD','sd'], np.nan, inplace=True)"
   ]
  },
  {
   "cell_type": "code",
   "execution_count": 115,
   "metadata": {},
   "outputs": [
    {
     "data": {
      "text/html": [
       "<div>\n",
       "<style scoped>\n",
       "    .dataframe tbody tr th:only-of-type {\n",
       "        vertical-align: middle;\n",
       "    }\n",
       "\n",
       "    .dataframe tbody tr th {\n",
       "        vertical-align: top;\n",
       "    }\n",
       "\n",
       "    .dataframe thead th {\n",
       "        text-align: right;\n",
       "    }\n",
       "</style>\n",
       "<table border=\"1\" class=\"dataframe\">\n",
       "  <thead>\n",
       "    <tr style=\"text-align: right;\">\n",
       "      <th></th>\n",
       "      <th>Columna</th>\n",
       "      <th>Cantidad de SD</th>\n",
       "    </tr>\n",
       "  </thead>\n",
       "  <tbody>\n",
       "  </tbody>\n",
       "</table>\n",
       "</div>"
      ],
      "text/plain": [
       "Empty DataFrame\n",
       "Columns: [Columna, Cantidad de SD]\n",
       "Index: []"
      ]
     },
     "execution_count": 115,
     "metadata": {},
     "output_type": "execute_result"
    }
   ],
   "source": [
    "sin_datos=analizar_valores_sd(df_hechos_lesiones)\n",
    "sin_datos"
   ]
  },
  {
   "cell_type": "code",
   "execution_count": 116,
   "metadata": {},
   "outputs": [
    {
     "name": "stdout",
     "output_type": "stream",
     "text": [
      "<class 'pandas.core.frame.DataFrame'>\n",
      "RangeIndex: 23785 entries, 0 to 23784\n",
      "Data columns (total 11 columns):\n",
      " #   Column       Non-Null Count  Dtype  \n",
      "---  ------       --------------  -----  \n",
      " 0   id           23785 non-null  object \n",
      " 1   n_victimas   23785 non-null  int64  \n",
      " 2   fecha        23785 non-null  object \n",
      " 3   franja_hora  23776 non-null  float64\n",
      " 4   comuna       22770 non-null  object \n",
      " 5   tipo_calle   12740 non-null  object \n",
      " 6   longitud     22314 non-null  object \n",
      " 7   latutid      22314 non-null  object \n",
      " 8   victima      13052 non-null  object \n",
      " 9   acusado      8497 non-null   object \n",
      " 10  gravedad     646 non-null    object \n",
      "dtypes: float64(1), int64(1), object(9)\n",
      "memory usage: 2.0+ MB\n"
     ]
    }
   ],
   "source": [
    "df_hechos_lesiones.info()"
   ]
  },
  {
   "cell_type": "code",
   "execution_count": 117,
   "metadata": {},
   "outputs": [],
   "source": [
    "# Se convierten las columnas a minuscula para evitar problemas\n",
    "columnas_a_minusculas = ['tipo_calle', 'victima','acusado','gravedad']\n",
    "\n",
    "# Se itera sobre las columnas seleccionadas y se pasan a minúsculas\n",
    "for columna in columnas_a_minusculas:\n",
    "    df_hechos_lesiones[columna] = df_hechos_lesiones[columna].str.lower()"
   ]
  },
  {
   "cell_type": "code",
   "execution_count": 118,
   "metadata": {},
   "outputs": [],
   "source": [
    "# Se reemplazan valores nulos en 'gravedad'\n",
    "df_hechos_lesiones['gravedad'] = df_hechos_lesiones['gravedad'].fillna('leve')"
   ]
  },
  {
   "attachments": {},
   "cell_type": "markdown",
   "metadata": {},
   "source": [
    "Se realiza el remplazo de valores nulos por 'leve', ya que en el diccionario de datos dice lo siguiente: \" A efectos analíticos, los casos sin datos se corresponden con una alta probabilidad a casos leves.\""
   ]
  },
  {
   "cell_type": "code",
   "execution_count": 119,
   "metadata": {},
   "outputs": [],
   "source": [
    "# Se reemplazan valores nulos en 'comuna'\n",
    "df_hechos_lesiones['comuna'] = df_hechos_lesiones['comuna'].replace('No Especificada', np.nan)"
   ]
  },
  {
   "cell_type": "code",
   "execution_count": 120,
   "metadata": {},
   "outputs": [],
   "source": [
    "# Se convierte las columnas \"latutid\" y \"longitud\" a tipo de dato float\n",
    "df_hechos_lesiones['latutid'] = pd.to_numeric(df_hechos_lesiones['latutid'], errors='coerce').astype(float)\n",
    "df_hechos_lesiones['longitud'] = pd.to_numeric(df_hechos_lesiones['longitud'], errors='coerce').astype(float)"
   ]
  },
  {
   "cell_type": "code",
   "execution_count": 121,
   "metadata": {},
   "outputs": [],
   "source": [
    "columns_to_categorize = ['franja_hora', 'tipo_calle','comuna','victima','acusado','gravedad']\n",
    "\n",
    "for column in columns_to_categorize:\n",
    "    df_hechos_lesiones[column] = pd.Categorical(df_hechos_lesiones[column])"
   ]
  },
  {
   "cell_type": "code",
   "execution_count": 122,
   "metadata": {},
   "outputs": [
    {
     "name": "stdout",
     "output_type": "stream",
     "text": [
      "<class 'pandas.core.frame.DataFrame'>\n",
      "RangeIndex: 23785 entries, 0 to 23784\n",
      "Data columns (total 11 columns):\n",
      " #   Column       Non-Null Count  Dtype   \n",
      "---  ------       --------------  -----   \n",
      " 0   id           23785 non-null  object  \n",
      " 1   n_victimas   23785 non-null  int64   \n",
      " 2   fecha        23785 non-null  object  \n",
      " 3   franja_hora  23776 non-null  category\n",
      " 4   comuna       22328 non-null  category\n",
      " 5   tipo_calle   12740 non-null  category\n",
      " 6   longitud     22314 non-null  float64 \n",
      " 7   latutid      22314 non-null  float64 \n",
      " 8   victima      13052 non-null  category\n",
      " 9   acusado      8497 non-null   category\n",
      " 10  gravedad     23785 non-null  category\n",
      "dtypes: category(6), float64(2), int64(1), object(2)\n",
      "memory usage: 1.0+ MB\n"
     ]
    }
   ],
   "source": [
    "df_hechos_lesiones.info()"
   ]
  },
  {
   "cell_type": "code",
   "execution_count": 123,
   "metadata": {},
   "outputs": [],
   "source": [
    "# Se crea un diccionario con los nuevos nombres de las columnas\n",
    "mapeo_nombres = {'id': 'id_siniestro', 'n_victimas': 'nro_victimas','franja_hora':'franja_horaria',\n",
    "                'latutid':'latitud','victima':'vehiculo_victima',\n",
    "                'acusado':'vehiculo_acusado'}\n",
    "\n",
    "# Se utiliza el método rename para renombrar las columnas específicas\n",
    "df_hechos_lesiones.rename(columns=mapeo_nombres, inplace=True)"
   ]
  },
  {
   "cell_type": "code",
   "execution_count": 124,
   "metadata": {},
   "outputs": [
    {
     "name": "stdout",
     "output_type": "stream",
     "text": [
      "<class 'pandas.core.frame.DataFrame'>\n",
      "RangeIndex: 23785 entries, 0 to 23784\n",
      "Data columns (total 11 columns):\n",
      " #   Column            Non-Null Count  Dtype   \n",
      "---  ------            --------------  -----   \n",
      " 0   id_siniestro      23785 non-null  object  \n",
      " 1   nro_victimas      23785 non-null  int64   \n",
      " 2   fecha             23785 non-null  object  \n",
      " 3   franja_horaria    23776 non-null  category\n",
      " 4   comuna            22328 non-null  category\n",
      " 5   tipo_calle        12740 non-null  category\n",
      " 6   longitud          22314 non-null  float64 \n",
      " 7   latitud           22314 non-null  float64 \n",
      " 8   vehiculo_victima  13052 non-null  category\n",
      " 9   vehiculo_acusado  8497 non-null   category\n",
      " 10  gravedad          23785 non-null  category\n",
      "dtypes: category(6), float64(2), int64(1), object(2)\n",
      "memory usage: 1.0+ MB\n"
     ]
    }
   ],
   "source": [
    "df_hechos_lesiones.info()"
   ]
  },
  {
   "attachments": {},
   "cell_type": "markdown",
   "metadata": {},
   "source": [
    "DATASET LESIONES VICTIMA"
   ]
  },
  {
   "cell_type": "code",
   "execution_count": 125,
   "metadata": {},
   "outputs": [],
   "source": [
    "df_lesiones_victimas=datos_Excel_2['VICTIMAS']"
   ]
  },
  {
   "cell_type": "code",
   "execution_count": 126,
   "metadata": {},
   "outputs": [
    {
     "data": {
      "text/html": [
       "<div>\n",
       "<style scoped>\n",
       "    .dataframe tbody tr th:only-of-type {\n",
       "        vertical-align: middle;\n",
       "    }\n",
       "\n",
       "    .dataframe tbody tr th {\n",
       "        vertical-align: top;\n",
       "    }\n",
       "\n",
       "    .dataframe thead th {\n",
       "        text-align: right;\n",
       "    }\n",
       "</style>\n",
       "<table border=\"1\" class=\"dataframe\">\n",
       "  <thead>\n",
       "    <tr style=\"text-align: right;\">\n",
       "      <th></th>\n",
       "      <th>ID hecho</th>\n",
       "      <th>AAA</th>\n",
       "      <th>MM</th>\n",
       "      <th>DD</th>\n",
       "      <th>FECHA</th>\n",
       "      <th>VEHICULO_VICTIMA</th>\n",
       "      <th>SEXO</th>\n",
       "      <th>EDAD_VICTIMA</th>\n",
       "      <th>GRAVEDAD</th>\n",
       "    </tr>\n",
       "  </thead>\n",
       "  <tbody>\n",
       "    <tr>\n",
       "      <th>0</th>\n",
       "      <td>LC-2019-0000053</td>\n",
       "      <td>2019</td>\n",
       "      <td>1</td>\n",
       "      <td>1</td>\n",
       "      <td>2019-01-01</td>\n",
       "      <td>sd</td>\n",
       "      <td>Varon</td>\n",
       "      <td>57</td>\n",
       "      <td>SD</td>\n",
       "    </tr>\n",
       "    <tr>\n",
       "      <th>1</th>\n",
       "      <td>LC-2019-0000063</td>\n",
       "      <td>2019</td>\n",
       "      <td>1</td>\n",
       "      <td>1</td>\n",
       "      <td>2019-01-01</td>\n",
       "      <td>sd</td>\n",
       "      <td>SD</td>\n",
       "      <td>SD</td>\n",
       "      <td>SD</td>\n",
       "    </tr>\n",
       "    <tr>\n",
       "      <th>2</th>\n",
       "      <td>LC-2019-0000079</td>\n",
       "      <td>2019</td>\n",
       "      <td>1</td>\n",
       "      <td>1</td>\n",
       "      <td>2019-01-01</td>\n",
       "      <td>sd</td>\n",
       "      <td>Varon</td>\n",
       "      <td>SD</td>\n",
       "      <td>SD</td>\n",
       "    </tr>\n",
       "    <tr>\n",
       "      <th>3</th>\n",
       "      <td>LC-2019-0000082</td>\n",
       "      <td>2019</td>\n",
       "      <td>1</td>\n",
       "      <td>1</td>\n",
       "      <td>2019-01-01</td>\n",
       "      <td>sd</td>\n",
       "      <td>Varon</td>\n",
       "      <td>45</td>\n",
       "      <td>SD</td>\n",
       "    </tr>\n",
       "    <tr>\n",
       "      <th>4</th>\n",
       "      <td>LC-2019-0000082</td>\n",
       "      <td>2019</td>\n",
       "      <td>1</td>\n",
       "      <td>1</td>\n",
       "      <td>2019-01-01</td>\n",
       "      <td>sd</td>\n",
       "      <td>Mujer</td>\n",
       "      <td>45</td>\n",
       "      <td>SD</td>\n",
       "    </tr>\n",
       "  </tbody>\n",
       "</table>\n",
       "</div>"
      ],
      "text/plain": [
       "          ID hecho   AAA  MM  DD     FECHA  VEHICULO_VICTIMA   SEXO  \\\n",
       "0  LC-2019-0000053  2019   1   1 2019-01-01               sd  Varon   \n",
       "1  LC-2019-0000063  2019   1   1 2019-01-01               sd     SD   \n",
       "2  LC-2019-0000079  2019   1   1 2019-01-01               sd  Varon   \n",
       "3  LC-2019-0000082  2019   1   1 2019-01-01               sd  Varon   \n",
       "4  LC-2019-0000082  2019   1   1 2019-01-01               sd  Mujer   \n",
       "\n",
       "  EDAD_VICTIMA GRAVEDAD  \n",
       "0           57       SD  \n",
       "1           SD       SD  \n",
       "2           SD       SD  \n",
       "3           45       SD  \n",
       "4           45       SD  "
      ]
     },
     "execution_count": 126,
     "metadata": {},
     "output_type": "execute_result"
    }
   ],
   "source": [
    "df_lesiones_victimas.head()"
   ]
  },
  {
   "cell_type": "code",
   "execution_count": 127,
   "metadata": {},
   "outputs": [
    {
     "name": "stdout",
     "output_type": "stream",
     "text": [
      "<class 'pandas.core.frame.DataFrame'>\n",
      "RangeIndex: 27605 entries, 0 to 27604\n",
      "Data columns (total 9 columns):\n",
      " #   Column            Non-Null Count  Dtype         \n",
      "---  ------            --------------  -----         \n",
      " 0   ID hecho          27605 non-null  object        \n",
      " 1   AAA               27605 non-null  int64         \n",
      " 2   MM                27605 non-null  int64         \n",
      " 3   DD                27605 non-null  int64         \n",
      " 4   FECHA             27605 non-null  datetime64[ns]\n",
      " 5   VEHICULO_VICTIMA  27605 non-null  object        \n",
      " 6   SEXO              27605 non-null  object        \n",
      " 7   EDAD_VICTIMA      27605 non-null  object        \n",
      " 8   GRAVEDAD          27605 non-null  object        \n",
      "dtypes: datetime64[ns](1), int64(3), object(5)\n",
      "memory usage: 1.9+ MB\n"
     ]
    }
   ],
   "source": [
    "# Se obtiene información general del DataFrame\n",
    "\n",
    "df_lesiones_victimas.info()"
   ]
  },
  {
   "cell_type": "code",
   "execution_count": 128,
   "metadata": {},
   "outputs": [],
   "source": [
    "columnas_eliminar=['FECHA ','AAA','MM','DD','VEHICULO_VICTIMA','GRAVEDAD']\n",
    "df_lesiones_victimas.drop(columnas_eliminar,axis=1,inplace=True)"
   ]
  },
  {
   "cell_type": "code",
   "execution_count": 129,
   "metadata": {},
   "outputs": [
    {
     "data": {
      "text/html": [
       "<div>\n",
       "<style scoped>\n",
       "    .dataframe tbody tr th:only-of-type {\n",
       "        vertical-align: middle;\n",
       "    }\n",
       "\n",
       "    .dataframe tbody tr th {\n",
       "        vertical-align: top;\n",
       "    }\n",
       "\n",
       "    .dataframe thead th {\n",
       "        text-align: right;\n",
       "    }\n",
       "</style>\n",
       "<table border=\"1\" class=\"dataframe\">\n",
       "  <thead>\n",
       "    <tr style=\"text-align: right;\">\n",
       "      <th></th>\n",
       "      <th>Columna</th>\n",
       "      <th>Cantidad de SD</th>\n",
       "    </tr>\n",
       "  </thead>\n",
       "  <tbody>\n",
       "    <tr>\n",
       "      <th>1</th>\n",
       "      <td>SEXO</td>\n",
       "      <td>1929</td>\n",
       "    </tr>\n",
       "    <tr>\n",
       "      <th>2</th>\n",
       "      <td>EDAD_VICTIMA</td>\n",
       "      <td>3990</td>\n",
       "    </tr>\n",
       "  </tbody>\n",
       "</table>\n",
       "</div>"
      ],
      "text/plain": [
       "        Columna  Cantidad de SD\n",
       "1          SEXO            1929\n",
       "2  EDAD_VICTIMA            3990"
      ]
     },
     "execution_count": 129,
     "metadata": {},
     "output_type": "execute_result"
    }
   ],
   "source": [
    "# Se utiliza la funcion analizar_valores_sd para hacer un conteo por columna de los valores sd o SD\n",
    "pasar_nulos=analizar_valores_sd(df_lesiones_victimas)\n",
    "pasar_nulos"
   ]
  },
  {
   "cell_type": "code",
   "execution_count": 130,
   "metadata": {},
   "outputs": [],
   "source": [
    "# Se reemplaza 'SD' por NaN en todo el DataFrame\n",
    "\n",
    "df_lesiones_victimas.replace(['SD','sd'], np.nan, inplace=True)"
   ]
  },
  {
   "cell_type": "code",
   "execution_count": 131,
   "metadata": {},
   "outputs": [
    {
     "data": {
      "text/html": [
       "<div>\n",
       "<style scoped>\n",
       "    .dataframe tbody tr th:only-of-type {\n",
       "        vertical-align: middle;\n",
       "    }\n",
       "\n",
       "    .dataframe tbody tr th {\n",
       "        vertical-align: top;\n",
       "    }\n",
       "\n",
       "    .dataframe thead th {\n",
       "        text-align: right;\n",
       "    }\n",
       "</style>\n",
       "<table border=\"1\" class=\"dataframe\">\n",
       "  <thead>\n",
       "    <tr style=\"text-align: right;\">\n",
       "      <th></th>\n",
       "      <th>Columna</th>\n",
       "      <th>Cantidad de SD</th>\n",
       "    </tr>\n",
       "  </thead>\n",
       "  <tbody>\n",
       "  </tbody>\n",
       "</table>\n",
       "</div>"
      ],
      "text/plain": [
       "Empty DataFrame\n",
       "Columns: [Columna, Cantidad de SD]\n",
       "Index: []"
      ]
     },
     "execution_count": 131,
     "metadata": {},
     "output_type": "execute_result"
    }
   ],
   "source": [
    "# Se utiliza la funcion analizar_valores_sd para hacer un conteo por columna de los valores sd o SD\n",
    "pasar_nulos=analizar_valores_sd(df_lesiones_victimas)\n",
    "pasar_nulos"
   ]
  },
  {
   "cell_type": "code",
   "execution_count": 132,
   "metadata": {},
   "outputs": [],
   "source": [
    "# Se convierten las columnas a minuscula para evitar problemas\n",
    "df_lesiones_victimas['SEXO'] = df_lesiones_victimas['SEXO'].str.upper()\n",
    "\n"
   ]
  },
  {
   "cell_type": "code",
   "execution_count": 133,
   "metadata": {},
   "outputs": [
    {
     "name": "stdout",
     "output_type": "stream",
     "text": [
      "<class 'pandas.core.frame.DataFrame'>\n",
      "RangeIndex: 27605 entries, 0 to 27604\n",
      "Data columns (total 3 columns):\n",
      " #   Column        Non-Null Count  Dtype \n",
      "---  ------        --------------  ----- \n",
      " 0   ID hecho      27605 non-null  object\n",
      " 1   SEXO          25377 non-null  object\n",
      " 2   EDAD_VICTIMA  23134 non-null  object\n",
      "dtypes: object(3)\n",
      "memory usage: 647.1+ KB\n"
     ]
    }
   ],
   "source": [
    "df_lesiones_victimas.info()"
   ]
  },
  {
   "cell_type": "code",
   "execution_count": 134,
   "metadata": {},
   "outputs": [],
   "source": [
    "# Se crea un diccionario con los valores a remplazar\n",
    "values_to_replace = {'SEXO': {'VARON': 'masculino', 'MUJER': 'femenino','MUJER ':'femenino'}}\n",
    "\n",
    "# Se utiliza el método replace para realizar el reemplazo\n",
    "df_lesiones_victimas.replace(values_to_replace, inplace=True)"
   ]
  },
  {
   "cell_type": "code",
   "execution_count": 135,
   "metadata": {},
   "outputs": [],
   "source": [
    "\n",
    "columns_to_categorize = ['SEXO']\n",
    "\n",
    "for column in columns_to_categorize:\n",
    "    df_lesiones_victimas[column] = pd.Categorical(df_lesiones_victimas[column])"
   ]
  },
  {
   "cell_type": "code",
   "execution_count": 136,
   "metadata": {},
   "outputs": [
    {
     "name": "stdout",
     "output_type": "stream",
     "text": [
      "['masculino', NaN, 'femenino']\n",
      "Categories (2, object): ['femenino', 'masculino']\n"
     ]
    }
   ],
   "source": [
    "\n",
    "# Verificar los valores únicos en la columna 'sexo'\n",
    "print(df_lesiones_victimas['SEXO'].unique())"
   ]
  },
  {
   "cell_type": "code",
   "execution_count": 137,
   "metadata": {},
   "outputs": [],
   "source": [
    "# Se convierte la columna 'EDAD' a float y despues a int para preservar Nan\n",
    "df_lesiones_victimas['EDAD_VICTIMA'] = pd.to_numeric(df_lesiones_victimas['EDAD_VICTIMA'], errors='coerce')\n",
    "\n",
    "# Se convierte a 'float64' para admitir NaN\n",
    "df_lesiones_victimas['EDAD_VICTIMA'] = df_lesiones_victimas['EDAD_VICTIMA'].astype('float64')\n",
    "\n",
    "# Se convierte a 'Int64' para preservar NaN y tratar los demás valores como enteros\n",
    "df_lesiones_victimas['EDAD_VICTIMA'] = df_lesiones_victimas['EDAD_VICTIMA'].astype('Int64')"
   ]
  },
  {
   "cell_type": "code",
   "execution_count": 138,
   "metadata": {},
   "outputs": [],
   "source": [
    "# Se crea un diccionario con los nuevos nombres de las columnas\n",
    "mapeo_nombres = {'ID hecho': 'id_siniestro', 'SEXO':'sexo','EDAD_VICTIMA':'edad'}\n",
    "\n",
    "# Se utiliza el método rename para renombrar las columnas específicas\n",
    "df_lesiones_victimas.rename(columns=mapeo_nombres, inplace=True)"
   ]
  },
  {
   "cell_type": "code",
   "execution_count": 139,
   "metadata": {},
   "outputs": [
    {
     "data": {
      "text/html": [
       "<div>\n",
       "<style scoped>\n",
       "    .dataframe tbody tr th:only-of-type {\n",
       "        vertical-align: middle;\n",
       "    }\n",
       "\n",
       "    .dataframe tbody tr th {\n",
       "        vertical-align: top;\n",
       "    }\n",
       "\n",
       "    .dataframe thead th {\n",
       "        text-align: right;\n",
       "    }\n",
       "</style>\n",
       "<table border=\"1\" class=\"dataframe\">\n",
       "  <thead>\n",
       "    <tr style=\"text-align: right;\">\n",
       "      <th></th>\n",
       "      <th>id_siniestro</th>\n",
       "      <th>sexo</th>\n",
       "      <th>edad</th>\n",
       "    </tr>\n",
       "  </thead>\n",
       "  <tbody>\n",
       "    <tr>\n",
       "      <th>0</th>\n",
       "      <td>LC-2019-0000053</td>\n",
       "      <td>masculino</td>\n",
       "      <td>57</td>\n",
       "    </tr>\n",
       "    <tr>\n",
       "      <th>1</th>\n",
       "      <td>LC-2019-0000063</td>\n",
       "      <td>NaN</td>\n",
       "      <td>&lt;NA&gt;</td>\n",
       "    </tr>\n",
       "    <tr>\n",
       "      <th>2</th>\n",
       "      <td>LC-2019-0000079</td>\n",
       "      <td>masculino</td>\n",
       "      <td>&lt;NA&gt;</td>\n",
       "    </tr>\n",
       "    <tr>\n",
       "      <th>3</th>\n",
       "      <td>LC-2019-0000082</td>\n",
       "      <td>masculino</td>\n",
       "      <td>45</td>\n",
       "    </tr>\n",
       "    <tr>\n",
       "      <th>4</th>\n",
       "      <td>LC-2019-0000082</td>\n",
       "      <td>femenino</td>\n",
       "      <td>45</td>\n",
       "    </tr>\n",
       "    <tr>\n",
       "      <th>...</th>\n",
       "      <td>...</td>\n",
       "      <td>...</td>\n",
       "      <td>...</td>\n",
       "    </tr>\n",
       "    <tr>\n",
       "      <th>27600</th>\n",
       "      <td>LC-2021-0451911</td>\n",
       "      <td>masculino</td>\n",
       "      <td>87</td>\n",
       "    </tr>\n",
       "    <tr>\n",
       "      <th>27601</th>\n",
       "      <td>LC-2021-0530228</td>\n",
       "      <td>femenino</td>\n",
       "      <td>60</td>\n",
       "    </tr>\n",
       "    <tr>\n",
       "      <th>27602</th>\n",
       "      <td>LC-2021-0530228</td>\n",
       "      <td>femenino</td>\n",
       "      <td>32</td>\n",
       "    </tr>\n",
       "    <tr>\n",
       "      <th>27603</th>\n",
       "      <td>LC-2021-0201378</td>\n",
       "      <td>masculino</td>\n",
       "      <td>32</td>\n",
       "    </tr>\n",
       "    <tr>\n",
       "      <th>27604</th>\n",
       "      <td>LC-2021-0229350</td>\n",
       "      <td>masculino</td>\n",
       "      <td>41</td>\n",
       "    </tr>\n",
       "  </tbody>\n",
       "</table>\n",
       "<p>27605 rows × 3 columns</p>\n",
       "</div>"
      ],
      "text/plain": [
       "          id_siniestro       sexo  edad\n",
       "0      LC-2019-0000053  masculino    57\n",
       "1      LC-2019-0000063        NaN  <NA>\n",
       "2      LC-2019-0000079  masculino  <NA>\n",
       "3      LC-2019-0000082  masculino    45\n",
       "4      LC-2019-0000082   femenino    45\n",
       "...                ...        ...   ...\n",
       "27600  LC-2021-0451911  masculino    87\n",
       "27601  LC-2021-0530228   femenino    60\n",
       "27602  LC-2021-0530228   femenino    32\n",
       "27603  LC-2021-0201378  masculino    32\n",
       "27604  LC-2021-0229350  masculino    41\n",
       "\n",
       "[27605 rows x 3 columns]"
      ]
     },
     "execution_count": 139,
     "metadata": {},
     "output_type": "execute_result"
    }
   ],
   "source": [
    "df_lesiones_victimas"
   ]
  },
  {
   "attachments": {},
   "cell_type": "markdown",
   "metadata": {},
   "source": [
    "COMBINAR DATAFRAMES"
   ]
  },
  {
   "cell_type": "code",
   "execution_count": 140,
   "metadata": {},
   "outputs": [],
   "source": [
    "# Se fusionan los DataFrames\n",
    "\n",
    "df_homicidios = pd.merge(df_datos_hechos, df_victimas, left_on='id_siniestro', right_on='id_siniestro', how='inner')\n",
    "df_lesiones = pd.merge(df_hechos_lesiones, df_lesiones_victimas, left_on='id_siniestro', right_on='id_siniestro', how='inner')"
   ]
  },
  {
   "cell_type": "code",
   "execution_count": 141,
   "metadata": {},
   "outputs": [
    {
     "name": "stdout",
     "output_type": "stream",
     "text": [
      "<class 'pandas.core.frame.DataFrame'>\n",
      "RangeIndex: 717 entries, 0 to 716\n",
      "Data columns (total 13 columns):\n",
      " #   Column            Non-Null Count  Dtype         \n",
      "---  ------            --------------  -----         \n",
      " 0   id_siniestro      717 non-null    object        \n",
      " 1   nro_victimas      717 non-null    int64         \n",
      " 2   fecha             717 non-null    datetime64[ns]\n",
      " 3   franja_horaria    716 non-null    category      \n",
      " 4   tipo_de_calle     717 non-null    category      \n",
      " 5   comuna            717 non-null    category      \n",
      " 6   longitud          717 non-null    float64       \n",
      " 7   latitud           717 non-null    float64       \n",
      " 8   vehiculo_victima  708 non-null    category      \n",
      " 9   vehiculo_acusado  694 non-null    category      \n",
      " 10  rol               706 non-null    category      \n",
      " 11  sexo              711 non-null    category      \n",
      " 12  edad              664 non-null    Int64         \n",
      "dtypes: Int64(1), category(7), datetime64[ns](1), float64(2), int64(1), object(1)\n",
      "memory usage: 42.0+ KB\n"
     ]
    }
   ],
   "source": [
    "df_homicidios.info()"
   ]
  },
  {
   "cell_type": "code",
   "execution_count": 142,
   "metadata": {},
   "outputs": [
    {
     "name": "stdout",
     "output_type": "stream",
     "text": [
      "<class 'pandas.core.frame.DataFrame'>\n",
      "RangeIndex: 27598 entries, 0 to 27597\n",
      "Data columns (total 13 columns):\n",
      " #   Column            Non-Null Count  Dtype   \n",
      "---  ------            --------------  -----   \n",
      " 0   id_siniestro      27598 non-null  object  \n",
      " 1   nro_victimas      27598 non-null  int64   \n",
      " 2   fecha             27598 non-null  object  \n",
      " 3   franja_horaria    27590 non-null  category\n",
      " 4   comuna            25974 non-null  category\n",
      " 5   tipo_calle        14719 non-null  category\n",
      " 6   longitud          25942 non-null  float64 \n",
      " 7   latitud           25942 non-null  float64 \n",
      " 8   vehiculo_victima  14776 non-null  category\n",
      " 9   vehiculo_acusado  9680 non-null   category\n",
      " 10  gravedad          27598 non-null  category\n",
      " 11  sexo              25370 non-null  category\n",
      " 12  edad              23127 non-null  Int64   \n",
      "dtypes: Int64(1), category(7), float64(2), int64(1), object(2)\n",
      "memory usage: 1.5+ MB\n"
     ]
    }
   ],
   "source": [
    "df_lesiones.info()"
   ]
  },
  {
   "cell_type": "code",
   "execution_count": 143,
   "metadata": {},
   "outputs": [],
   "source": [
    "# Se reorganizan columnas de df_lesiones\n",
    "\n",
    "reorden = ['id_siniestro', 'nro_victimas', 'fecha', 'franja_horaria', 'tipo_calle', 'comuna', 'longitud', 'latitud', \n",
    "           'vehiculo_victima', 'vehiculo_acusado', 'sexo', 'edad', 'gravedad']\n",
    "\n",
    "df_lesiones = df_lesiones[reorden]"
   ]
  },
  {
   "cell_type": "code",
   "execution_count": 144,
   "metadata": {},
   "outputs": [],
   "source": [
    "# Se almacenan los DataFrames finales en un nuevo archivo CSV\n",
    "\n",
    "df_homicidios.to_csv('homicidios_limpio.csv', index=False)\n",
    "df_lesiones.to_csv('lesiones_limpio.csv', index=False)"
   ]
  }
 ],
 "metadata": {
  "kernelspec": {
   "display_name": "Python 3",
   "language": "python",
   "name": "python3"
  },
  "language_info": {
   "codemirror_mode": {
    "name": "ipython",
    "version": 3
   },
   "file_extension": ".py",
   "mimetype": "text/x-python",
   "name": "python",
   "nbconvert_exporter": "python",
   "pygments_lexer": "ipython3",
   "version": "3.10.11"
  },
  "orig_nbformat": 4,
  "vscode": {
   "interpreter": {
    "hash": "d7514066a4d7325c4286872ce37e90444efca390fae243deee8bc6d6d3ba2622"
   }
  }
 },
 "nbformat": 4,
 "nbformat_minor": 2
}
